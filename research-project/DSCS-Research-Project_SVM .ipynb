{
 "cells": [
  {
   "cell_type": "markdown",
   "id": "88734552",
   "metadata": {},
   "source": [
    "# SVM ML LAB"
   ]
  },
  {
   "cell_type": "markdown",
   "id": "3d9c857d",
   "metadata": {},
   "source": [
    "### Zaidan Mufaddhal | AIU20092029"
   ]
  },
  {
   "cell_type": "markdown",
   "id": "d990ccf7",
   "metadata": {},
   "source": [
    "##  1. Data Preprocessing"
   ]
  },
  {
   "cell_type": "code",
   "execution_count": 257,
   "id": "fba3ad56",
   "metadata": {},
   "outputs": [],
   "source": [
    "# importing libraries  \n",
    "import numpy as np\n",
    "import matplotlib.pyplot as mtp  \n",
    "import pandas as pd \n",
    "import matplotlib.pyplot as plt"
   ]
  },
  {
   "cell_type": "code",
   "execution_count": 258,
   "id": "a31e1ece",
   "metadata": {},
   "outputs": [
    {
     "data": {
      "text/html": [
       "<div>\n",
       "<style scoped>\n",
       "    .dataframe tbody tr th:only-of-type {\n",
       "        vertical-align: middle;\n",
       "    }\n",
       "\n",
       "    .dataframe tbody tr th {\n",
       "        vertical-align: top;\n",
       "    }\n",
       "\n",
       "    .dataframe thead th {\n",
       "        text-align: right;\n",
       "    }\n",
       "</style>\n",
       "<table border=\"1\" class=\"dataframe\">\n",
       "  <thead>\n",
       "    <tr style=\"text-align: right;\">\n",
       "      <th></th>\n",
       "      <th>Date</th>\n",
       "      <th>Open</th>\n",
       "      <th>High</th>\n",
       "      <th>Low</th>\n",
       "      <th>Close</th>\n",
       "      <th>Adj Close</th>\n",
       "      <th>Volume</th>\n",
       "    </tr>\n",
       "  </thead>\n",
       "  <tbody>\n",
       "    <tr>\n",
       "      <th>0</th>\n",
       "      <td>04/06/2022</td>\n",
       "      <td>305.190002</td>\n",
       "      <td>307.000000</td>\n",
       "      <td>296.709991</td>\n",
       "      <td>299.500000</td>\n",
       "      <td>299.500000</td>\n",
       "      <td>40110400</td>\n",
       "    </tr>\n",
       "    <tr>\n",
       "      <th>1</th>\n",
       "      <td>04/07/2022</td>\n",
       "      <td>296.660004</td>\n",
       "      <td>303.649994</td>\n",
       "      <td>296.350006</td>\n",
       "      <td>301.369995</td>\n",
       "      <td>301.369995</td>\n",
       "      <td>31411200</td>\n",
       "    </tr>\n",
       "    <tr>\n",
       "      <th>2</th>\n",
       "      <td>04/08/2022</td>\n",
       "      <td>300.440002</td>\n",
       "      <td>301.119995</td>\n",
       "      <td>296.279999</td>\n",
       "      <td>296.970001</td>\n",
       "      <td>296.970001</td>\n",
       "      <td>24361900</td>\n",
       "    </tr>\n",
       "    <tr>\n",
       "      <th>3</th>\n",
       "      <td>04/11/2022</td>\n",
       "      <td>291.790009</td>\n",
       "      <td>292.609985</td>\n",
       "      <td>285.000000</td>\n",
       "      <td>285.260010</td>\n",
       "      <td>285.260010</td>\n",
       "      <td>34569300</td>\n",
       "    </tr>\n",
       "    <tr>\n",
       "      <th>4</th>\n",
       "      <td>04/12/2022</td>\n",
       "      <td>289.239990</td>\n",
       "      <td>290.739990</td>\n",
       "      <td>280.489990</td>\n",
       "      <td>282.059998</td>\n",
       "      <td>282.059998</td>\n",
       "      <td>30966700</td>\n",
       "    </tr>\n",
       "    <tr>\n",
       "      <th>5</th>\n",
       "      <td>04/13/2022</td>\n",
       "      <td>282.730011</td>\n",
       "      <td>288.579987</td>\n",
       "      <td>281.299988</td>\n",
       "      <td>287.619995</td>\n",
       "      <td>287.619995</td>\n",
       "      <td>21907200</td>\n",
       "    </tr>\n",
       "    <tr>\n",
       "      <th>6</th>\n",
       "      <td>04/14/2022</td>\n",
       "      <td>288.089996</td>\n",
       "      <td>288.309998</td>\n",
       "      <td>279.320007</td>\n",
       "      <td>279.829987</td>\n",
       "      <td>279.829987</td>\n",
       "      <td>28221600</td>\n",
       "    </tr>\n",
       "    <tr>\n",
       "      <th>7</th>\n",
       "      <td>04/18/2022</td>\n",
       "      <td>278.910004</td>\n",
       "      <td>282.459991</td>\n",
       "      <td>278.339996</td>\n",
       "      <td>280.519989</td>\n",
       "      <td>280.519989</td>\n",
       "      <td>20778000</td>\n",
       "    </tr>\n",
       "    <tr>\n",
       "      <th>8</th>\n",
       "      <td>04/19/2022</td>\n",
       "      <td>279.380005</td>\n",
       "      <td>286.170013</td>\n",
       "      <td>278.410004</td>\n",
       "      <td>285.299988</td>\n",
       "      <td>285.299988</td>\n",
       "      <td>22297700</td>\n",
       "    </tr>\n",
       "    <tr>\n",
       "      <th>9</th>\n",
       "      <td>04/20/2022</td>\n",
       "      <td>289.399994</td>\n",
       "      <td>289.700012</td>\n",
       "      <td>285.369995</td>\n",
       "      <td>286.359985</td>\n",
       "      <td>286.359985</td>\n",
       "      <td>22906700</td>\n",
       "    </tr>\n",
       "    <tr>\n",
       "      <th>10</th>\n",
       "      <td>04/21/2022</td>\n",
       "      <td>288.579987</td>\n",
       "      <td>293.299988</td>\n",
       "      <td>280.059998</td>\n",
       "      <td>280.809998</td>\n",
       "      <td>280.809998</td>\n",
       "      <td>29454600</td>\n",
       "    </tr>\n",
       "    <tr>\n",
       "      <th>11</th>\n",
       "      <td>04/22/2022</td>\n",
       "      <td>281.679993</td>\n",
       "      <td>283.200012</td>\n",
       "      <td>273.380005</td>\n",
       "      <td>274.029999</td>\n",
       "      <td>274.029999</td>\n",
       "      <td>29405800</td>\n",
       "    </tr>\n",
       "    <tr>\n",
       "      <th>12</th>\n",
       "      <td>04/25/2022</td>\n",
       "      <td>273.290009</td>\n",
       "      <td>281.109985</td>\n",
       "      <td>270.769989</td>\n",
       "      <td>280.720001</td>\n",
       "      <td>280.720001</td>\n",
       "      <td>35678900</td>\n",
       "    </tr>\n",
       "    <tr>\n",
       "      <th>13</th>\n",
       "      <td>04/26/2022</td>\n",
       "      <td>277.500000</td>\n",
       "      <td>278.359985</td>\n",
       "      <td>270.000000</td>\n",
       "      <td>270.220001</td>\n",
       "      <td>270.220001</td>\n",
       "      <td>46518400</td>\n",
       "    </tr>\n",
       "    <tr>\n",
       "      <th>14</th>\n",
       "      <td>04/27/2022</td>\n",
       "      <td>282.100006</td>\n",
       "      <td>290.970001</td>\n",
       "      <td>279.160004</td>\n",
       "      <td>283.220001</td>\n",
       "      <td>283.220001</td>\n",
       "      <td>63477700</td>\n",
       "    </tr>\n",
       "    <tr>\n",
       "      <th>15</th>\n",
       "      <td>04/28/2022</td>\n",
       "      <td>285.190002</td>\n",
       "      <td>290.980011</td>\n",
       "      <td>281.459991</td>\n",
       "      <td>289.630005</td>\n",
       "      <td>289.630005</td>\n",
       "      <td>33646600</td>\n",
       "    </tr>\n",
       "    <tr>\n",
       "      <th>16</th>\n",
       "      <td>04/29/2022</td>\n",
       "      <td>288.609985</td>\n",
       "      <td>289.880005</td>\n",
       "      <td>276.500000</td>\n",
       "      <td>277.519989</td>\n",
       "      <td>277.519989</td>\n",
       "      <td>37025000</td>\n",
       "    </tr>\n",
       "  </tbody>\n",
       "</table>\n",
       "</div>"
      ],
      "text/plain": [
       "           Date        Open        High         Low       Close   Adj Close  \\\n",
       "0    04/06/2022  305.190002  307.000000  296.709991  299.500000  299.500000   \n",
       "1    04/07/2022  296.660004  303.649994  296.350006  301.369995  301.369995   \n",
       "2    04/08/2022  300.440002  301.119995  296.279999  296.970001  296.970001   \n",
       "3    04/11/2022  291.790009  292.609985  285.000000  285.260010  285.260010   \n",
       "4    04/12/2022  289.239990  290.739990  280.489990  282.059998  282.059998   \n",
       "5    04/13/2022  282.730011  288.579987  281.299988  287.619995  287.619995   \n",
       "6    04/14/2022  288.089996  288.309998  279.320007  279.829987  279.829987   \n",
       "7    04/18/2022  278.910004  282.459991  278.339996  280.519989  280.519989   \n",
       "8    04/19/2022  279.380005  286.170013  278.410004  285.299988  285.299988   \n",
       "9    04/20/2022  289.399994  289.700012  285.369995  286.359985  286.359985   \n",
       "10   04/21/2022  288.579987  293.299988  280.059998  280.809998  280.809998   \n",
       "11   04/22/2022  281.679993  283.200012  273.380005  274.029999  274.029999   \n",
       "12   04/25/2022  273.290009  281.109985  270.769989  280.720001  280.720001   \n",
       "13   04/26/2022  277.500000  278.359985  270.000000  270.220001  270.220001   \n",
       "14   04/27/2022  282.100006  290.970001  279.160004  283.220001  283.220001   \n",
       "15   04/28/2022  285.190002  290.980011  281.459991  289.630005  289.630005   \n",
       "16   04/29/2022  288.609985  289.880005  276.500000  277.519989  277.519989   \n",
       "\n",
       "      Volume  \n",
       "0   40110400  \n",
       "1   31411200  \n",
       "2   24361900  \n",
       "3   34569300  \n",
       "4   30966700  \n",
       "5   21907200  \n",
       "6   28221600  \n",
       "7   20778000  \n",
       "8   22297700  \n",
       "9   22906700  \n",
       "10  29454600  \n",
       "11  29405800  \n",
       "12  35678900  \n",
       "13  46518400  \n",
       "14  63477700  \n",
       "15  33646600  \n",
       "16  37025000  "
      ]
     },
     "execution_count": 258,
     "metadata": {},
     "output_type": "execute_result"
    }
   ],
   "source": [
    "#importing datasets  \n",
    "df = pd.read_csv('Downloads/MSFT_forSVM.csv')\n",
    "df"
   ]
  },
  {
   "cell_type": "code",
   "execution_count": 259,
   "id": "38df5680",
   "metadata": {},
   "outputs": [
    {
     "name": "stdout",
     "output_type": "stream",
     "text": [
      "<class 'pandas.core.frame.DataFrame'>\n",
      "RangeIndex: 17 entries, 0 to 16\n",
      "Data columns (total 7 columns):\n",
      " #   Column     Non-Null Count  Dtype  \n",
      "---  ------     --------------  -----  \n",
      " 0   Date       17 non-null     object \n",
      " 1   Open       17 non-null     float64\n",
      " 2   High       17 non-null     float64\n",
      " 3   Low        17 non-null     float64\n",
      " 4   Close      17 non-null     float64\n",
      " 5   Adj Close  17 non-null     float64\n",
      " 6   Volume     17 non-null     int64  \n",
      "dtypes: float64(5), int64(1), object(1)\n",
      "memory usage: 1.1+ KB\n"
     ]
    }
   ],
   "source": [
    "df.info()"
   ]
  },
  {
   "cell_type": "code",
   "execution_count": 260,
   "id": "196bb27b",
   "metadata": {},
   "outputs": [
    {
     "data": {
      "text/html": [
       "<div>\n",
       "<style scoped>\n",
       "    .dataframe tbody tr th:only-of-type {\n",
       "        vertical-align: middle;\n",
       "    }\n",
       "\n",
       "    .dataframe tbody tr th {\n",
       "        vertical-align: top;\n",
       "    }\n",
       "\n",
       "    .dataframe thead th {\n",
       "        text-align: right;\n",
       "    }\n",
       "</style>\n",
       "<table border=\"1\" class=\"dataframe\">\n",
       "  <thead>\n",
       "    <tr style=\"text-align: right;\">\n",
       "      <th></th>\n",
       "      <th>Open</th>\n",
       "      <th>High</th>\n",
       "      <th>Low</th>\n",
       "      <th>Close</th>\n",
       "      <th>Adj Close</th>\n",
       "      <th>Volume</th>\n",
       "    </tr>\n",
       "  </thead>\n",
       "  <tbody>\n",
       "    <tr>\n",
       "      <th>count</th>\n",
       "      <td>17.000000</td>\n",
       "      <td>17.000000</td>\n",
       "      <td>17.000000</td>\n",
       "      <td>17.000000</td>\n",
       "      <td>17.000000</td>\n",
       "      <td>1.700000e+01</td>\n",
       "    </tr>\n",
       "    <tr>\n",
       "      <th>mean</th>\n",
       "      <td>286.987059</td>\n",
       "      <td>290.478821</td>\n",
       "      <td>281.699998</td>\n",
       "      <td>284.761173</td>\n",
       "      <td>284.761173</td>\n",
       "      <td>3.251398e+07</td>\n",
       "    </tr>\n",
       "    <tr>\n",
       "      <th>std</th>\n",
       "      <td>8.367976</td>\n",
       "      <td>7.715607</td>\n",
       "      <td>8.170359</td>\n",
       "      <td>8.441240</td>\n",
       "      <td>8.441240</td>\n",
       "      <td>1.061507e+07</td>\n",
       "    </tr>\n",
       "    <tr>\n",
       "      <th>min</th>\n",
       "      <td>273.290009</td>\n",
       "      <td>278.359985</td>\n",
       "      <td>270.000000</td>\n",
       "      <td>270.220001</td>\n",
       "      <td>270.220001</td>\n",
       "      <td>2.077800e+07</td>\n",
       "    </tr>\n",
       "    <tr>\n",
       "      <th>25%</th>\n",
       "      <td>281.679993</td>\n",
       "      <td>286.170013</td>\n",
       "      <td>278.339996</td>\n",
       "      <td>280.519989</td>\n",
       "      <td>280.519989</td>\n",
       "      <td>2.436190e+07</td>\n",
       "    </tr>\n",
       "    <tr>\n",
       "      <th>50%</th>\n",
       "      <td>288.089996</td>\n",
       "      <td>289.880005</td>\n",
       "      <td>280.059998</td>\n",
       "      <td>283.220001</td>\n",
       "      <td>283.220001</td>\n",
       "      <td>3.096670e+07</td>\n",
       "    </tr>\n",
       "    <tr>\n",
       "      <th>75%</th>\n",
       "      <td>289.399994</td>\n",
       "      <td>292.609985</td>\n",
       "      <td>285.000000</td>\n",
       "      <td>287.619995</td>\n",
       "      <td>287.619995</td>\n",
       "      <td>3.567890e+07</td>\n",
       "    </tr>\n",
       "    <tr>\n",
       "      <th>max</th>\n",
       "      <td>305.190002</td>\n",
       "      <td>307.000000</td>\n",
       "      <td>296.709991</td>\n",
       "      <td>301.369995</td>\n",
       "      <td>301.369995</td>\n",
       "      <td>6.347770e+07</td>\n",
       "    </tr>\n",
       "  </tbody>\n",
       "</table>\n",
       "</div>"
      ],
      "text/plain": [
       "             Open        High         Low       Close   Adj Close  \\\n",
       "count   17.000000   17.000000   17.000000   17.000000   17.000000   \n",
       "mean   286.987059  290.478821  281.699998  284.761173  284.761173   \n",
       "std      8.367976    7.715607    8.170359    8.441240    8.441240   \n",
       "min    273.290009  278.359985  270.000000  270.220001  270.220001   \n",
       "25%    281.679993  286.170013  278.339996  280.519989  280.519989   \n",
       "50%    288.089996  289.880005  280.059998  283.220001  283.220001   \n",
       "75%    289.399994  292.609985  285.000000  287.619995  287.619995   \n",
       "max    305.190002  307.000000  296.709991  301.369995  301.369995   \n",
       "\n",
       "             Volume  \n",
       "count  1.700000e+01  \n",
       "mean   3.251398e+07  \n",
       "std    1.061507e+07  \n",
       "min    2.077800e+07  \n",
       "25%    2.436190e+07  \n",
       "50%    3.096670e+07  \n",
       "75%    3.567890e+07  \n",
       "max    6.347770e+07  "
      ]
     },
     "execution_count": 260,
     "metadata": {},
     "output_type": "execute_result"
    }
   ],
   "source": [
    "df.describe()"
   ]
  },
  {
   "cell_type": "markdown",
   "id": "baf79ab4",
   "metadata": {},
   "source": [
    "#### Get Independent and dependent data"
   ]
  },
  {
   "cell_type": "code",
   "execution_count": 261,
   "id": "116b78c8",
   "metadata": {},
   "outputs": [],
   "source": [
    "#Create empty lists to store the independent and dependent data\n",
    "days = list()\n",
    "adj_close_prices = list()"
   ]
  },
  {
   "cell_type": "code",
   "execution_count": 262,
   "id": "d8f68ead",
   "metadata": {},
   "outputs": [],
   "source": [
    "#Get the dates and lists to store independent and dependent data\n",
    "df_days = df.loc[:, 'Date']\n",
    "df_adj_price = df.loc[:, 'Adj Close']"
   ]
  },
  {
   "cell_type": "code",
   "execution_count": 263,
   "id": "d0883344",
   "metadata": {},
   "outputs": [],
   "source": [
    "#Create the independent data set\n",
    "for day in df_days:\n",
    "    days.append( [int(day.split('/')[1])])\n",
    "    \n",
    "#Create the dependent data set\n",
    "for adj_close_price in df_adj_price:\n",
    "    adj_close_prices.append(float(adj_close_price))"
   ]
  },
  {
   "cell_type": "code",
   "execution_count": 264,
   "id": "8208137f",
   "metadata": {},
   "outputs": [],
   "source": [
    "x = days\n",
    "y = adj_close_prices"
   ]
  },
  {
   "cell_type": "code",
   "execution_count": 294,
   "id": "c5ef4602",
   "metadata": {},
   "outputs": [],
   "source": [
    "x_train = df.loc[:, 'Date'].head(len(df)-6)\n"
   ]
  },
  {
   "cell_type": "code",
   "execution_count": 295,
   "id": "96937d89",
   "metadata": {},
   "outputs": [
    {
     "data": {
      "text/plain": [
       "0      04/06/2022\n",
       "1      04/07/2022\n",
       "2      04/08/2022\n",
       "3      04/11/2022\n",
       "4      04/12/2022\n",
       "5      04/13/2022\n",
       "6      04/14/2022\n",
       "7      04/18/2022\n",
       "8      04/19/2022\n",
       "9      04/20/2022\n",
       "10     04/21/2022\n",
       "Name: Date, dtype: object"
      ]
     },
     "execution_count": 295,
     "metadata": {},
     "output_type": "execute_result"
    }
   ],
   "source": [
    "x_train"
   ]
  },
  {
   "cell_type": "code",
   "execution_count": 286,
   "id": "fa0d4e7a",
   "metadata": {},
   "outputs": [],
   "source": [
    "# Splitting the dataset into training and test set.  \n",
    "#from sklearn.model_selection import train_test_split  \n",
    "#x_train, x_test, y_train, y_test= train_test_split(x, y, test_size= 0.3) \n",
    "\n",
    "#feature Scaling\n",
    "from sklearn.preprocessing import StandardScaler    \n",
    "st_x= StandardScaler()    \n",
    "x_train= st_x.fit_transform(x_train)    \n",
    "x_test= st_x.transform(x_test) "
   ]
  },
  {
   "cell_type": "code",
   "execution_count": null,
   "id": "7970633b",
   "metadata": {},
   "outputs": [],
   "source": []
  },
  {
   "cell_type": "code",
   "execution_count": 296,
   "id": "f31a52ab",
   "metadata": {},
   "outputs": [
    {
     "data": {
      "text/plain": [
       "0      04/06/2022\n",
       "1      04/07/2022\n",
       "2      04/08/2022\n",
       "3      04/11/2022\n",
       "4      04/12/2022\n",
       "5      04/13/2022\n",
       "6      04/14/2022\n",
       "7      04/18/2022\n",
       "8      04/19/2022\n",
       "9      04/20/2022\n",
       "10     04/21/2022\n",
       "Name: Date, dtype: object"
      ]
     },
     "execution_count": 296,
     "metadata": {},
     "output_type": "execute_result"
    }
   ],
   "source": [
    "x_train"
   ]
  },
  {
   "cell_type": "code",
   "execution_count": 288,
   "id": "06e5f39e",
   "metadata": {},
   "outputs": [
    {
     "data": {
      "text/plain": [
       "array([[ 0.09038538],\n",
       "       [-0.40673422],\n",
       "       [ 0.33894519],\n",
       "       [ 0.9603447 ],\n",
       "       [ 1.3331844 ],\n",
       "       [-0.77957393]])"
      ]
     },
     "execution_count": 288,
     "metadata": {},
     "output_type": "execute_result"
    }
   ],
   "source": [
    "x_test"
   ]
  },
  {
   "cell_type": "code",
   "execution_count": 289,
   "id": "cf681029",
   "metadata": {},
   "outputs": [
    {
     "data": {
      "text/plain": [
       "[280.519989, 279.829987, 286.359985, 280.720001, 289.630005, 285.26001]"
      ]
     },
     "execution_count": 289,
     "metadata": {},
     "output_type": "execute_result"
    }
   ],
   "source": [
    "y_test"
   ]
  },
  {
   "cell_type": "code",
   "execution_count": 290,
   "id": "a6ec9472",
   "metadata": {},
   "outputs": [
    {
     "data": {
      "text/plain": [
       "[287.619995,\n",
       " 296.970001,\n",
       " 282.059998,\n",
       " 299.5,\n",
       " 270.220001,\n",
       " 277.519989,\n",
       " 280.809998,\n",
       " 301.369995,\n",
       " 283.220001,\n",
       " 285.299988,\n",
       " 274.029999]"
      ]
     },
     "execution_count": 290,
     "metadata": {},
     "output_type": "execute_result"
    }
   ],
   "source": [
    "y_train"
   ]
  },
  {
   "cell_type": "code",
   "execution_count": 291,
   "id": "0d2ddde3",
   "metadata": {},
   "outputs": [
    {
     "data": {
      "text/plain": [
       "[299.5,\n",
       " 301.369995,\n",
       " 296.970001,\n",
       " 285.26001,\n",
       " 282.059998,\n",
       " 287.619995,\n",
       " 279.829987,\n",
       " 280.519989,\n",
       " 285.299988,\n",
       " 286.359985,\n",
       " 280.809998,\n",
       " 274.029999,\n",
       " 280.720001,\n",
       " 270.220001,\n",
       " 283.220001,\n",
       " 289.630005,\n",
       " 277.519989]"
      ]
     },
     "execution_count": 291,
     "metadata": {},
     "output_type": "execute_result"
    }
   ],
   "source": [
    "y"
   ]
  },
  {
   "cell_type": "markdown",
   "id": "40743eb2",
   "metadata": {},
   "source": [
    "## 2. Fitting the SVM classifier to the training set"
   ]
  },
  {
   "cell_type": "code",
   "execution_count": 270,
   "id": "0b2fb5c4",
   "metadata": {},
   "outputs": [],
   "source": [
    "from sklearn.svm import SVR # \"Support vector classifier\"  "
   ]
  },
  {
   "cell_type": "code",
   "execution_count": 271,
   "id": "0940e241",
   "metadata": {},
   "outputs": [],
   "source": [
    "classifier = SVR(kernel='rbf', C=1000.0, gamma=0.15) "
   ]
  },
  {
   "cell_type": "code",
   "execution_count": 272,
   "id": "2c457b71",
   "metadata": {},
   "outputs": [
    {
     "data": {
      "text/plain": [
       "SVR(C=1000.0, gamma=0.15)"
      ]
     },
     "execution_count": 272,
     "metadata": {},
     "output_type": "execute_result"
    }
   ],
   "source": [
    "classifier.fit(x_train, y_train)"
   ]
  },
  {
   "cell_type": "markdown",
   "id": "b7e4beb6",
   "metadata": {},
   "source": [
    "## 3. Predicting the test set result"
   ]
  },
  {
   "cell_type": "code",
   "execution_count": 273,
   "id": "32f0ca8c",
   "metadata": {},
   "outputs": [],
   "source": [
    "y_pred=classifier.predict(x_test)"
   ]
  },
  {
   "cell_type": "code",
   "execution_count": 274,
   "id": "6c476342",
   "metadata": {},
   "outputs": [
    {
     "data": {
      "text/plain": [
       "[301.369995, 279.829987, 285.299988, 286.359985, 270.220001, 282.059998]"
      ]
     },
     "execution_count": 274,
     "metadata": {},
     "output_type": "execute_result"
    }
   ],
   "source": [
    "y_test"
   ]
  },
  {
   "cell_type": "code",
   "execution_count": 275,
   "id": "247ff65f",
   "metadata": {},
   "outputs": [
    {
     "data": {
      "text/plain": [
       "array([298.10190565, 285.82623576, 279.85912197, 279.35717115,\n",
       "       281.83330963, 289.29838498])"
      ]
     },
     "execution_count": 275,
     "metadata": {},
     "output_type": "execute_result"
    }
   ],
   "source": [
    "y_pred"
   ]
  },
  {
   "cell_type": "markdown",
   "id": "83a7ae05",
   "metadata": {},
   "source": [
    "## 4. Creating the mean squared error"
   ]
  },
  {
   "cell_type": "code",
   "execution_count": 276,
   "id": "8b2e462e",
   "metadata": {},
   "outputs": [],
   "source": [
    "#Creating the Confusion matrix  \n",
    "from sklearn.metrics import mean_squared_error\n",
    "ms= mean_squared_error(y_test, y_pred)  "
   ]
  },
  {
   "cell_type": "code",
   "execution_count": 277,
   "id": "3c9629d4",
   "metadata": {},
   "outputs": [
    {
     "data": {
      "text/plain": [
       "52.090169227215135"
      ]
     },
     "execution_count": 277,
     "metadata": {},
     "output_type": "execute_result"
    }
   ],
   "source": [
    "ms"
   ]
  },
  {
   "cell_type": "markdown",
   "id": "36b99975",
   "metadata": {},
   "source": [
    "So, based on the above result, there is 141+40=181 == 78.35% correct predictions and 34+16=50 == 21.64% incorrect predictions."
   ]
  },
  {
   "cell_type": "markdown",
   "id": "3a43c391",
   "metadata": {},
   "source": [
    "## 5. Visualizing the training set result"
   ]
  },
  {
   "cell_type": "code",
   "execution_count": 278,
   "id": "7fe13823",
   "metadata": {},
   "outputs": [],
   "source": [
    "y_pred_rounded = np.round(y_pred)"
   ]
  },
  {
   "cell_type": "code",
   "execution_count": 279,
   "id": "304fa5b9",
   "metadata": {},
   "outputs": [
    {
     "data": {
      "text/plain": [
       "array([298., 286., 280., 279., 282., 289.])"
      ]
     },
     "execution_count": 279,
     "metadata": {},
     "output_type": "execute_result"
    }
   ],
   "source": [
    "y_pred_rounded"
   ]
  },
  {
   "cell_type": "code",
   "execution_count": 280,
   "id": "99bea5d3",
   "metadata": {},
   "outputs": [],
   "source": [
    "y_pred_list = y_pred_rounded.tolist()"
   ]
  },
  {
   "cell_type": "code",
   "execution_count": 281,
   "id": "c6a353d2",
   "metadata": {},
   "outputs": [
    {
     "name": "stdout",
     "output_type": "stream",
     "text": [
      "[298.0, 286.0, 280.0, 279.0, 282.0, 289.0]\n"
     ]
    }
   ],
   "source": [
    "print(y_pred_list)"
   ]
  },
  {
   "cell_type": "code",
   "execution_count": 282,
   "id": "25b02b1d",
   "metadata": {},
   "outputs": [],
   "source": [
    "y_predicted = y_train + y_pred_list"
   ]
  },
  {
   "cell_type": "code",
   "execution_count": 283,
   "id": "ca039028",
   "metadata": {},
   "outputs": [
    {
     "name": "stdout",
     "output_type": "stream",
     "text": [
      "[296.970001, 283.220001, 280.809998, 280.519989, 277.519989, 274.029999, 285.26001, 299.5, 287.619995, 289.630005, 280.720001, 298.0, 286.0, 280.0, 279.0, 282.0, 289.0]\n"
     ]
    }
   ],
   "source": [
    "print (y_predicted)"
   ]
  },
  {
   "cell_type": "code",
   "execution_count": 284,
   "id": "052d1882",
   "metadata": {},
   "outputs": [
    {
     "data": {
      "image/png": "[encoded data removed]",
      "text/plain": [
       "<Figure size 1152x576 with 1 Axes>"
      ]
     },
     "metadata": {
      "needs_background": "light"
     },
     "output_type": "display_data"
    }
   ],
   "source": [
    "#plot the models ona graph to see which has the best fit to the original data\n",
    "plt.figure(figsize=(16,8))\n",
    "plt.scatter(x, y, color='red', label='Data')\n",
    "plt.plot(x, y_predicted, color='green', label='RBF Model')\n",
    "plt.legend()\n",
    "plt.show()"
   ]
  },
  {
   "cell_type": "markdown",
   "id": "d23aca01",
   "metadata": {},
   "source": [
    "## 6. Visualizing the test set result"
   ]
  }
 ],
 "metadata": {
  "kernelspec": {
   "display_name": "Python 3 (ipykernel)",
   "language": "python",
   "name": "python3"
  },
  "language_info": {
   "codemirror_mode": {
    "name": "ipython",
    "version": 3
   },
   "file_extension": ".py",
   "mimetype": "text/x-python",
   "name": "python",
   "nbconvert_exporter": "python",
   "pygments_lexer": "ipython3",
   "version": "3.9.13"
  }
 },
 "nbformat": 4,
 "nbformat_minor": 5
}

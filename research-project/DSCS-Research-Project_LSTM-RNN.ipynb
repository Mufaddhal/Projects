{
 "cells": [
  {
   "cell_type": "markdown",
   "id": "ca0ae9a8",
   "metadata": {},
   "source": [
    "### 1. Analyze the Data"
   ]
  },
  {
   "cell_type": "markdown",
   "id": "53341d12",
   "metadata": {},
   "source": [
    "#### Import Libraries"
   ]
  },
  {
   "cell_type": "code",
   "execution_count": 1,
   "id": "4fc86199",
   "metadata": {},
   "outputs": [],
   "source": [
    "import numpy as np\n",
    "import matplotlib.pyplot as plt\n",
    "import pandas as pd\n",
    "import pandas_datareader as web\n",
    "import datetime as dt"
   ]
  },
  {
   "cell_type": "code",
   "execution_count": 2,
   "id": "e1c3769d",
   "metadata": {},
   "outputs": [],
   "source": [
    "from sklearn.preprocessing import MinMaxScaler\n",
    "from tensorflow.keras.models import Sequential\n",
    "from tensorflow.keras.layers import Dense, Dropout, LSTM"
   ]
  },
  {
   "cell_type": "markdown",
   "id": "e6b21698",
   "metadata": {},
   "source": [
    "#### Data Preprocessing"
   ]
  },
  {
   "cell_type": "code",
   "execution_count": 3,
   "id": "e883da9d",
   "metadata": {},
   "outputs": [],
   "source": [
    "company = 'MSFT'"
   ]
  },
  {
   "cell_type": "code",
   "execution_count": 4,
   "id": "611283ea",
   "metadata": {},
   "outputs": [],
   "source": [
    "start = dt.datetime(2010,1,1)\n",
    "end = dt.datetime(2022,4,1)"
   ]
  },
  {
   "cell_type": "code",
   "execution_count": 5,
   "id": "61c50c26",
   "metadata": {},
   "outputs": [],
   "source": [
    "data = web.DataReader(company, 'yahoo', start, end)"
   ]
  },
  {
   "cell_type": "code",
   "execution_count": 6,
   "id": "eeac113c",
   "metadata": {},
   "outputs": [
    {
     "data": {
      "text/html": [
       "<div>\n",
       "<style scoped>\n",
       "    .dataframe tbody tr th:only-of-type {\n",
       "        vertical-align: middle;\n",
       "    }\n",
       "\n",
       "    .dataframe tbody tr th {\n",
       "        vertical-align: top;\n",
       "    }\n",
       "\n",
       "    .dataframe thead th {\n",
       "        text-align: right;\n",
       "    }\n",
       "</style>\n",
       "<table border=\"1\" class=\"dataframe\">\n",
       "  <thead>\n",
       "    <tr style=\"text-align: right;\">\n",
       "      <th></th>\n",
       "      <th>High</th>\n",
       "      <th>Low</th>\n",
       "      <th>Open</th>\n",
       "      <th>Close</th>\n",
       "      <th>Volume</th>\n",
       "      <th>Adj Close</th>\n",
       "    </tr>\n",
       "    <tr>\n",
       "      <th>Date</th>\n",
       "      <th></th>\n",
       "      <th></th>\n",
       "      <th></th>\n",
       "      <th></th>\n",
       "      <th></th>\n",
       "      <th></th>\n",
       "    </tr>\n",
       "  </thead>\n",
       "  <tbody>\n",
       "    <tr>\n",
       "      <th>2009-12-31</th>\n",
       "      <td>30.990000</td>\n",
       "      <td>30.480000</td>\n",
       "      <td>30.980000</td>\n",
       "      <td>30.480000</td>\n",
       "      <td>31929700.0</td>\n",
       "      <td>23.438797</td>\n",
       "    </tr>\n",
       "    <tr>\n",
       "      <th>2010-01-04</th>\n",
       "      <td>31.100000</td>\n",
       "      <td>30.590000</td>\n",
       "      <td>30.620001</td>\n",
       "      <td>30.950001</td>\n",
       "      <td>38409100.0</td>\n",
       "      <td>23.800224</td>\n",
       "    </tr>\n",
       "    <tr>\n",
       "      <th>2010-01-05</th>\n",
       "      <td>31.100000</td>\n",
       "      <td>30.639999</td>\n",
       "      <td>30.850000</td>\n",
       "      <td>30.959999</td>\n",
       "      <td>49749600.0</td>\n",
       "      <td>23.807915</td>\n",
       "    </tr>\n",
       "    <tr>\n",
       "      <th>2010-01-06</th>\n",
       "      <td>31.080000</td>\n",
       "      <td>30.520000</td>\n",
       "      <td>30.879999</td>\n",
       "      <td>30.770000</td>\n",
       "      <td>58182400.0</td>\n",
       "      <td>23.661812</td>\n",
       "    </tr>\n",
       "    <tr>\n",
       "      <th>2010-01-07</th>\n",
       "      <td>30.700001</td>\n",
       "      <td>30.190001</td>\n",
       "      <td>30.629999</td>\n",
       "      <td>30.450001</td>\n",
       "      <td>50559700.0</td>\n",
       "      <td>23.415731</td>\n",
       "    </tr>\n",
       "    <tr>\n",
       "      <th>...</th>\n",
       "      <td>...</td>\n",
       "      <td>...</td>\n",
       "      <td>...</td>\n",
       "      <td>...</td>\n",
       "      <td>...</td>\n",
       "      <td>...</td>\n",
       "    </tr>\n",
       "    <tr>\n",
       "      <th>2022-03-28</th>\n",
       "      <td>310.799988</td>\n",
       "      <td>304.329987</td>\n",
       "      <td>304.329987</td>\n",
       "      <td>310.700012</td>\n",
       "      <td>29578200.0</td>\n",
       "      <td>309.978058</td>\n",
       "    </tr>\n",
       "    <tr>\n",
       "      <th>2022-03-29</th>\n",
       "      <td>315.820007</td>\n",
       "      <td>309.049988</td>\n",
       "      <td>313.910004</td>\n",
       "      <td>315.410004</td>\n",
       "      <td>30393400.0</td>\n",
       "      <td>314.677094</td>\n",
       "    </tr>\n",
       "    <tr>\n",
       "      <th>2022-03-30</th>\n",
       "      <td>315.950012</td>\n",
       "      <td>311.579987</td>\n",
       "      <td>313.760010</td>\n",
       "      <td>313.859985</td>\n",
       "      <td>28163600.0</td>\n",
       "      <td>313.130676</td>\n",
       "    </tr>\n",
       "    <tr>\n",
       "      <th>2022-03-31</th>\n",
       "      <td>315.140015</td>\n",
       "      <td>307.890015</td>\n",
       "      <td>313.899994</td>\n",
       "      <td>308.309998</td>\n",
       "      <td>33422100.0</td>\n",
       "      <td>307.593567</td>\n",
       "    </tr>\n",
       "    <tr>\n",
       "      <th>2022-04-01</th>\n",
       "      <td>310.130005</td>\n",
       "      <td>305.540009</td>\n",
       "      <td>309.369995</td>\n",
       "      <td>309.420013</td>\n",
       "      <td>27110500.0</td>\n",
       "      <td>308.701019</td>\n",
       "    </tr>\n",
       "  </tbody>\n",
       "</table>\n",
       "<p>3085 rows × 6 columns</p>\n",
       "</div>"
      ],
      "text/plain": [
       "                  High         Low        Open       Close      Volume  \\\n",
       "Date                                                                     \n",
       "2009-12-31   30.990000   30.480000   30.980000   30.480000  31929700.0   \n",
       "2010-01-04   31.100000   30.590000   30.620001   30.950001  38409100.0   \n",
       "2010-01-05   31.100000   30.639999   30.850000   30.959999  49749600.0   \n",
       "2010-01-06   31.080000   30.520000   30.879999   30.770000  58182400.0   \n",
       "2010-01-07   30.700001   30.190001   30.629999   30.450001  50559700.0   \n",
       "...                ...         ...         ...         ...         ...   \n",
       "2022-03-28  310.799988  304.329987  304.329987  310.700012  29578200.0   \n",
       "2022-03-29  315.820007  309.049988  313.910004  315.410004  30393400.0   \n",
       "2022-03-30  315.950012  311.579987  313.760010  313.859985  28163600.0   \n",
       "2022-03-31  315.140015  307.890015  313.899994  308.309998  33422100.0   \n",
       "2022-04-01  310.130005  305.540009  309.369995  309.420013  27110500.0   \n",
       "\n",
       "             Adj Close  \n",
       "Date                    \n",
       "2009-12-31   23.438797  \n",
       "2010-01-04   23.800224  \n",
       "2010-01-05   23.807915  \n",
       "2010-01-06   23.661812  \n",
       "2010-01-07   23.415731  \n",
       "...                ...  \n",
       "2022-03-28  309.978058  \n",
       "2022-03-29  314.677094  \n",
       "2022-03-30  313.130676  \n",
       "2022-03-31  307.593567  \n",
       "2022-04-01  308.701019  \n",
       "\n",
       "[3085 rows x 6 columns]"
      ]
     },
     "execution_count": 6,
     "metadata": {},
     "output_type": "execute_result"
    }
   ],
   "source": [
    "data"
   ]
  },
  {
   "cell_type": "markdown",
   "id": "5fcd879d",
   "metadata": {},
   "source": [
    "#### Split the dataset"
   ]
  },
  {
   "cell_type": "code",
   "execution_count": 7,
   "id": "b8b80810",
   "metadata": {},
   "outputs": [],
   "source": [
    "scaler = MinMaxScaler(feature_range=(0,1))\n",
    "scaled_data = scaler.fit_transform(data['Close'].values.reshape(-1,1))"
   ]
  },
  {
   "cell_type": "code",
   "execution_count": 8,
   "id": "39fad087",
   "metadata": {},
   "outputs": [],
   "source": [
    "prediction_days = 60"
   ]
  },
  {
   "cell_type": "code",
   "execution_count": 9,
   "id": "cd97eeed",
   "metadata": {},
   "outputs": [],
   "source": [
    "x_train = []\n",
    "y_train = []"
   ]
  },
  {
   "cell_type": "code",
   "execution_count": 10,
   "id": "17c85be1",
   "metadata": {},
   "outputs": [],
   "source": [
    "for x in range(prediction_days, len(scaled_data)):\n",
    "    x_train.append(scaled_data[x-prediction_days:x, 0])\n",
    "    y_train.append(scaled_data[x, 0])"
   ]
  },
  {
   "cell_type": "code",
   "execution_count": 11,
   "id": "1e2b15c7",
   "metadata": {},
   "outputs": [],
   "source": [
    "x_train, y_train = np.array(x_train), np.array(y_train)\n",
    "x_train = np.reshape(x_train, (x_train.shape[0], x_train.shape[1], 1))"
   ]
  },
  {
   "cell_type": "markdown",
   "id": "97faf933",
   "metadata": {},
   "source": [
    "### 2. Train the model"
   ]
  },
  {
   "cell_type": "code",
   "execution_count": 12,
   "id": "9af3531c",
   "metadata": {},
   "outputs": [],
   "source": [
    "model = Sequential()"
   ]
  },
  {
   "cell_type": "code",
   "execution_count": 14,
   "id": "9a5f7e63",
   "metadata": {},
   "outputs": [],
   "source": [
    "model.add(LSTM(units=50, return_sequences=True, input_shape=(x_train.shape[1],1)))\n",
    "model.add(Dropout(0.2))\n",
    "model.add(LSTM(units=50, return_sequences=True))\n",
    "model.add(Dropout(0.2))\n",
    "model.add(LSTM(units=50))\n",
    "model.add(Dropout(0.2))\n",
    "model.add(Dense(units=1)) #Predicting the next close"
   ]
  },
  {
   "cell_type": "code",
   "execution_count": 15,
   "id": "a90913d7",
   "metadata": {},
   "outputs": [],
   "source": [
    "model.compile(optimizer='adam', loss='mean_squared_error')"
   ]
  },
  {
   "cell_type": "code",
   "execution_count": 16,
   "id": "e90a8814",
   "metadata": {},
   "outputs": [
    {
     "name": "stdout",
     "output_type": "stream",
     "text": [
      "Epoch 1/25\n",
      "95/95 [==============================] - 13s 72ms/step - loss: 0.0060\n",
      "Epoch 2/25\n",
      "95/95 [==============================] - 7s 72ms/step - loss: 0.0014\n",
      "Epoch 3/25\n",
      "95/95 [==============================] - 7s 71ms/step - loss: 0.0013\n",
      "Epoch 4/25\n",
      "95/95 [==============================] - 7s 70ms/step - loss: 0.0012\n",
      "Epoch 5/25\n",
      "95/95 [==============================] - 7s 69ms/step - loss: 0.0011\n",
      "Epoch 6/25\n",
      "95/95 [==============================] - 7s 72ms/step - loss: 0.0012\n",
      "Epoch 7/25\n",
      "95/95 [==============================] - 7s 70ms/step - loss: 0.0011\n",
      "Epoch 8/25\n",
      "95/95 [==============================] - 7s 70ms/step - loss: 0.0011\n",
      "Epoch 9/25\n",
      "95/95 [==============================] - 7s 71ms/step - loss: 0.0011\n",
      "Epoch 10/25\n",
      "95/95 [==============================] - 7s 69ms/step - loss: 9.0212e-04\n",
      "Epoch 11/25\n",
      "95/95 [==============================] - 7s 71ms/step - loss: 9.6638e-04\n",
      "Epoch 12/25\n",
      "95/95 [==============================] - 7s 70ms/step - loss: 8.4288e-04\n",
      "Epoch 13/25\n",
      "95/95 [==============================] - 7s 71ms/step - loss: 0.0011\n",
      "Epoch 14/25\n",
      "95/95 [==============================] - 7s 70ms/step - loss: 8.9248e-04\n",
      "Epoch 15/25\n",
      "95/95 [==============================] - 7s 70ms/step - loss: 8.3060e-04\n",
      "Epoch 16/25\n",
      "95/95 [==============================] - 7s 71ms/step - loss: 0.0010\n",
      "Epoch 17/25\n",
      "95/95 [==============================] - 7s 70ms/step - loss: 8.3802e-04\n",
      "Epoch 18/25\n",
      "95/95 [==============================] - 7s 72ms/step - loss: 7.9783e-04\n",
      "Epoch 19/25\n",
      "95/95 [==============================] - 7s 71ms/step - loss: 7.8082e-04\n",
      "Epoch 20/25\n",
      "95/95 [==============================] - 7s 71ms/step - loss: 8.1403e-04\n",
      "Epoch 21/25\n",
      "95/95 [==============================] - 7s 71ms/step - loss: 8.4677e-04\n",
      "Epoch 22/25\n",
      "95/95 [==============================] - 7s 70ms/step - loss: 7.1601e-04\n",
      "Epoch 23/25\n",
      "95/95 [==============================] - 7s 72ms/step - loss: 7.7518e-04\n",
      "Epoch 24/25\n",
      "95/95 [==============================] - 7s 71ms/step - loss: 8.8862e-04\n",
      "Epoch 25/25\n",
      "95/95 [==============================] - 7s 70ms/step - loss: 7.8132e-04\n"
     ]
    },
    {
     "data": {
      "text/plain": [
       "<keras.callbacks.History at 0x15fb6b22190>"
      ]
     },
     "execution_count": 16,
     "metadata": {},
     "output_type": "execute_result"
    }
   ],
   "source": [
    "model.fit(x_train, y_train, epochs=25, batch_size=32)"
   ]
  },
  {
   "cell_type": "markdown",
   "id": "6bd32685",
   "metadata": {},
   "source": [
    "### 3. Test the model"
   ]
  },
  {
   "cell_type": "code",
   "execution_count": 18,
   "id": "d87ccb5b",
   "metadata": {},
   "outputs": [],
   "source": [
    "test_start = dt.datetime(2022,4,1)\n",
    "test_end = dt.datetime.now()"
   ]
  },
  {
   "cell_type": "code",
   "execution_count": 19,
   "id": "24b76b52",
   "metadata": {},
   "outputs": [],
   "source": [
    "test_data = web.DataReader(company, 'yahoo', test_start, test_end)"
   ]
  },
  {
   "cell_type": "code",
   "execution_count": 20,
   "id": "62e6325a",
   "metadata": {},
   "outputs": [
    {
     "data": {
      "text/html": [
       "<div>\n",
       "<style scoped>\n",
       "    .dataframe tbody tr th:only-of-type {\n",
       "        vertical-align: middle;\n",
       "    }\n",
       "\n",
       "    .dataframe tbody tr th {\n",
       "        vertical-align: top;\n",
       "    }\n",
       "\n",
       "    .dataframe thead th {\n",
       "        text-align: right;\n",
       "    }\n",
       "</style>\n",
       "<table border=\"1\" class=\"dataframe\">\n",
       "  <thead>\n",
       "    <tr style=\"text-align: right;\">\n",
       "      <th></th>\n",
       "      <th>High</th>\n",
       "      <th>Low</th>\n",
       "      <th>Open</th>\n",
       "      <th>Close</th>\n",
       "      <th>Volume</th>\n",
       "      <th>Adj Close</th>\n",
       "    </tr>\n",
       "    <tr>\n",
       "      <th>Date</th>\n",
       "      <th></th>\n",
       "      <th></th>\n",
       "      <th></th>\n",
       "      <th></th>\n",
       "      <th></th>\n",
       "      <th></th>\n",
       "    </tr>\n",
       "  </thead>\n",
       "  <tbody>\n",
       "    <tr>\n",
       "      <th>2022-03-31</th>\n",
       "      <td>315.140015</td>\n",
       "      <td>307.890015</td>\n",
       "      <td>313.899994</td>\n",
       "      <td>308.309998</td>\n",
       "      <td>33422100.0</td>\n",
       "      <td>307.593567</td>\n",
       "    </tr>\n",
       "    <tr>\n",
       "      <th>2022-04-01</th>\n",
       "      <td>310.130005</td>\n",
       "      <td>305.540009</td>\n",
       "      <td>309.369995</td>\n",
       "      <td>309.420013</td>\n",
       "      <td>27110500.0</td>\n",
       "      <td>308.701019</td>\n",
       "    </tr>\n",
       "    <tr>\n",
       "      <th>2022-04-04</th>\n",
       "      <td>315.109985</td>\n",
       "      <td>309.709991</td>\n",
       "      <td>310.089996</td>\n",
       "      <td>314.970001</td>\n",
       "      <td>24289600.0</td>\n",
       "      <td>314.238098</td>\n",
       "    </tr>\n",
       "    <tr>\n",
       "      <th>2022-04-05</th>\n",
       "      <td>314.869995</td>\n",
       "      <td>309.869995</td>\n",
       "      <td>313.269989</td>\n",
       "      <td>310.880005</td>\n",
       "      <td>23156700.0</td>\n",
       "      <td>310.157623</td>\n",
       "    </tr>\n",
       "    <tr>\n",
       "      <th>2022-04-06</th>\n",
       "      <td>307.000000</td>\n",
       "      <td>296.709991</td>\n",
       "      <td>305.190002</td>\n",
       "      <td>299.500000</td>\n",
       "      <td>40110400.0</td>\n",
       "      <td>298.804047</td>\n",
       "    </tr>\n",
       "  </tbody>\n",
       "</table>\n",
       "</div>"
      ],
      "text/plain": [
       "                  High         Low        Open       Close      Volume  \\\n",
       "Date                                                                     \n",
       "2022-03-31  315.140015  307.890015  313.899994  308.309998  33422100.0   \n",
       "2022-04-01  310.130005  305.540009  309.369995  309.420013  27110500.0   \n",
       "2022-04-04  315.109985  309.709991  310.089996  314.970001  24289600.0   \n",
       "2022-04-05  314.869995  309.869995  313.269989  310.880005  23156700.0   \n",
       "2022-04-06  307.000000  296.709991  305.190002  299.500000  40110400.0   \n",
       "\n",
       "             Adj Close  \n",
       "Date                    \n",
       "2022-03-31  307.593567  \n",
       "2022-04-01  308.701019  \n",
       "2022-04-04  314.238098  \n",
       "2022-04-05  310.157623  \n",
       "2022-04-06  298.804047  "
      ]
     },
     "execution_count": 20,
     "metadata": {},
     "output_type": "execute_result"
    }
   ],
   "source": [
    "test_data.head()"
   ]
  },
  {
   "cell_type": "code",
   "execution_count": 21,
   "id": "4ddc4d00",
   "metadata": {},
   "outputs": [],
   "source": [
    "actual_prices = test_data['Close'].values"
   ]
  },
  {
   "cell_type": "code",
   "execution_count": 22,
   "id": "64d88bae",
   "metadata": {},
   "outputs": [],
   "source": [
    "total_dataset = pd.concat((data['Close'], test_data['Close']), axis =0)"
   ]
  },
  {
   "cell_type": "code",
   "execution_count": 23,
   "id": "6daf5985",
   "metadata": {},
   "outputs": [],
   "source": [
    "model_inputs = total_dataset[len(total_dataset)-len(test_data)-prediction_days:].values\n",
    "model_inputs = model_inputs.reshape(-1,1)\n",
    "model_inputs = scaler.transform(model_inputs)"
   ]
  },
  {
   "cell_type": "markdown",
   "id": "1d8dd863",
   "metadata": {},
   "source": [
    "##### Make predictions"
   ]
  },
  {
   "cell_type": "code",
   "execution_count": 24,
   "id": "a93e95cd",
   "metadata": {},
   "outputs": [],
   "source": [
    "x_test = []"
   ]
  },
  {
   "cell_type": "code",
   "execution_count": 25,
   "id": "65413dd9",
   "metadata": {},
   "outputs": [],
   "source": [
    "for x in range(prediction_days, len(model_inputs)):\n",
    "    x_test.append(model_inputs[x-prediction_days:x, 0])"
   ]
  },
  {
   "cell_type": "code",
   "execution_count": 26,
   "id": "10535012",
   "metadata": {},
   "outputs": [],
   "source": [
    "x_test = np.array(x_test)\n",
    "x_test = np.reshape(x_test, (x_test.shape[0], x_test.shape[1], 1))"
   ]
  },
  {
   "cell_type": "code",
   "execution_count": 27,
   "id": "ca8e7d0c",
   "metadata": {},
   "outputs": [],
   "source": [
    "predicted_prices = model.predict(x_test)\n",
    "predicted_prices = scaler.inverse_transform(predicted_prices)"
   ]
  },
  {
   "cell_type": "markdown",
   "id": "882e3efe",
   "metadata": {},
   "source": [
    "#### 5. Visualization"
   ]
  },
  {
   "cell_type": "code",
   "execution_count": 28,
   "id": "c0f52526",
   "metadata": {},
   "outputs": [
    {
     "data": {
      "image/png": "[encoded data removed]",
      "text/plain": [
       "<Figure size 432x288 with 1 Axes>"
      ]
     },
     "metadata": {
      "needs_background": "light"
     },
     "output_type": "display_data"
    }
   ],
   "source": [
    "plt.plot(actual_prices, color=\"black\", label=f\"Actual {company} Prices\")\n",
    "plt.plot(predicted_prices, color='green', label=f\"Predicted {company} Prices\")\n",
    "plt.title(f\"{company} Share Prices\")\n",
    "plt.xlabel('Time')\n",
    "plt.ylabel(f'{company} Share price')\n",
    "plt.legend()\n",
    "plt.show()"
   ]
  }
 ],
 "metadata": {
  "kernelspec": {
   "display_name": "Python 3 (ipykernel)",
   "language": "python",
   "name": "python3"
  },
  "language_info": {
   "codemirror_mode": {
    "name": "ipython",
    "version": 3
   },
   "file_extension": ".py",
   "mimetype": "text/x-python",
   "name": "python",
   "nbconvert_exporter": "python",
   "pygments_lexer": "ipython3",
   "version": "3.9.7"
  }
 },
 "nbformat": 4,
 "nbformat_minor": 5
}

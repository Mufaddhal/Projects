{
 "cells": [
  {
   "cell_type": "markdown",
   "id": "960e9152",
   "metadata": {},
   "source": [
    "### 1. Data Preparation"
   ]
  },
  {
   "cell_type": "code",
   "execution_count": 62,
   "id": "2b9e3126",
   "metadata": {},
   "outputs": [],
   "source": [
    "import numpy as np\n",
    "import pandas as pd\n",
    "import yfinance as yf"
   ]
  },
  {
   "cell_type": "code",
   "execution_count": 142,
   "id": "9eceb19c",
   "metadata": {},
   "outputs": [
    {
     "name": "stdout",
     "output_type": "stream",
     "text": [
      "[*********************100%***********************]  1 of 1 completed\n"
     ]
    },
    {
     "data": {
      "text/html": [
       "<div>\n",
       "<style scoped>\n",
       "    .dataframe tbody tr th:only-of-type {\n",
       "        vertical-align: middle;\n",
       "    }\n",
       "\n",
       "    .dataframe tbody tr th {\n",
       "        vertical-align: top;\n",
       "    }\n",
       "\n",
       "    .dataframe thead th {\n",
       "        text-align: right;\n",
       "    }\n",
       "</style>\n",
       "<table border=\"1\" class=\"dataframe\">\n",
       "  <thead>\n",
       "    <tr style=\"text-align: right;\">\n",
       "      <th></th>\n",
       "      <th>Open</th>\n",
       "      <th>High</th>\n",
       "      <th>Low</th>\n",
       "      <th>Close</th>\n",
       "      <th>Adj Close</th>\n",
       "      <th>Volume</th>\n",
       "    </tr>\n",
       "    <tr>\n",
       "      <th>Date</th>\n",
       "      <th></th>\n",
       "      <th></th>\n",
       "      <th></th>\n",
       "      <th></th>\n",
       "      <th></th>\n",
       "      <th></th>\n",
       "    </tr>\n",
       "  </thead>\n",
       "  <tbody>\n",
       "    <tr>\n",
       "      <th>2017-05-19</th>\n",
       "      <td>67.500000</td>\n",
       "      <td>68.099998</td>\n",
       "      <td>67.430000</td>\n",
       "      <td>67.690002</td>\n",
       "      <td>63.402107</td>\n",
       "      <td>26961100</td>\n",
       "    </tr>\n",
       "    <tr>\n",
       "      <th>2017-05-22</th>\n",
       "      <td>67.889999</td>\n",
       "      <td>68.500000</td>\n",
       "      <td>67.500000</td>\n",
       "      <td>68.449997</td>\n",
       "      <td>64.113960</td>\n",
       "      <td>16237600</td>\n",
       "    </tr>\n",
       "    <tr>\n",
       "      <th>2017-05-23</th>\n",
       "      <td>68.720001</td>\n",
       "      <td>68.750000</td>\n",
       "      <td>68.379997</td>\n",
       "      <td>68.680000</td>\n",
       "      <td>64.329384</td>\n",
       "      <td>15425800</td>\n",
       "    </tr>\n",
       "    <tr>\n",
       "      <th>2017-05-24</th>\n",
       "      <td>68.870003</td>\n",
       "      <td>68.879997</td>\n",
       "      <td>68.449997</td>\n",
       "      <td>68.769997</td>\n",
       "      <td>64.413681</td>\n",
       "      <td>14593900</td>\n",
       "    </tr>\n",
       "    <tr>\n",
       "      <th>2017-05-25</th>\n",
       "      <td>68.970001</td>\n",
       "      <td>69.879997</td>\n",
       "      <td>68.910004</td>\n",
       "      <td>69.620003</td>\n",
       "      <td>65.209839</td>\n",
       "      <td>21854100</td>\n",
       "    </tr>\n",
       "    <tr>\n",
       "      <th>...</th>\n",
       "      <td>...</td>\n",
       "      <td>...</td>\n",
       "      <td>...</td>\n",
       "      <td>...</td>\n",
       "      <td>...</td>\n",
       "      <td>...</td>\n",
       "    </tr>\n",
       "    <tr>\n",
       "      <th>2022-05-12</th>\n",
       "      <td>257.690002</td>\n",
       "      <td>259.880005</td>\n",
       "      <td>250.020004</td>\n",
       "      <td>255.350006</td>\n",
       "      <td>254.756653</td>\n",
       "      <td>51033800</td>\n",
       "    </tr>\n",
       "    <tr>\n",
       "      <th>2022-05-13</th>\n",
       "      <td>257.350006</td>\n",
       "      <td>263.040009</td>\n",
       "      <td>255.350006</td>\n",
       "      <td>261.119995</td>\n",
       "      <td>260.513245</td>\n",
       "      <td>34893400</td>\n",
       "    </tr>\n",
       "    <tr>\n",
       "      <th>2022-05-16</th>\n",
       "      <td>259.959991</td>\n",
       "      <td>265.820007</td>\n",
       "      <td>255.779999</td>\n",
       "      <td>261.500000</td>\n",
       "      <td>260.892365</td>\n",
       "      <td>32550900</td>\n",
       "    </tr>\n",
       "    <tr>\n",
       "      <th>2022-05-17</th>\n",
       "      <td>266.109985</td>\n",
       "      <td>268.329987</td>\n",
       "      <td>262.459991</td>\n",
       "      <td>266.820007</td>\n",
       "      <td>266.200012</td>\n",
       "      <td>28828800</td>\n",
       "    </tr>\n",
       "    <tr>\n",
       "      <th>2022-05-18</th>\n",
       "      <td>263.000000</td>\n",
       "      <td>263.600006</td>\n",
       "      <td>252.770004</td>\n",
       "      <td>254.080002</td>\n",
       "      <td>254.080002</td>\n",
       "      <td>31356000</td>\n",
       "    </tr>\n",
       "  </tbody>\n",
       "</table>\n",
       "<p>1259 rows × 6 columns</p>\n",
       "</div>"
      ],
      "text/plain": [
       "                  Open        High         Low       Close   Adj Close  \\\n",
       "Date                                                                     \n",
       "2017-05-19   67.500000   68.099998   67.430000   67.690002   63.402107   \n",
       "2017-05-22   67.889999   68.500000   67.500000   68.449997   64.113960   \n",
       "2017-05-23   68.720001   68.750000   68.379997   68.680000   64.329384   \n",
       "2017-05-24   68.870003   68.879997   68.449997   68.769997   64.413681   \n",
       "2017-05-25   68.970001   69.879997   68.910004   69.620003   65.209839   \n",
       "...                ...         ...         ...         ...         ...   \n",
       "2022-05-12  257.690002  259.880005  250.020004  255.350006  254.756653   \n",
       "2022-05-13  257.350006  263.040009  255.350006  261.119995  260.513245   \n",
       "2022-05-16  259.959991  265.820007  255.779999  261.500000  260.892365   \n",
       "2022-05-17  266.109985  268.329987  262.459991  266.820007  266.200012   \n",
       "2022-05-18  263.000000  263.600006  252.770004  254.080002  254.080002   \n",
       "\n",
       "              Volume  \n",
       "Date                  \n",
       "2017-05-19  26961100  \n",
       "2017-05-22  16237600  \n",
       "2017-05-23  15425800  \n",
       "2017-05-24  14593900  \n",
       "2017-05-25  21854100  \n",
       "...              ...  \n",
       "2022-05-12  51033800  \n",
       "2022-05-13  34893400  \n",
       "2022-05-16  32550900  \n",
       "2022-05-17  28828800  \n",
       "2022-05-18  31356000  \n",
       "\n",
       "[1259 rows x 6 columns]"
      ]
     },
     "execution_count": 142,
     "metadata": {},
     "output_type": "execute_result"
    }
   ],
   "source": [
    "df = yf.download('MSFT', start='2017-05-20', end='2022-05-19')\n",
    "df"
   ]
  },
  {
   "cell_type": "code",
   "execution_count": 110,
   "id": "6f437997",
   "metadata": {},
   "outputs": [
    {
     "name": "stdout",
     "output_type": "stream",
     "text": [
      "[*********************100%***********************]  1 of 1 completed\n"
     ]
    },
    {
     "data": {
      "text/html": [
       "<div>\n",
       "<style scoped>\n",
       "    .dataframe tbody tr th:only-of-type {\n",
       "        vertical-align: middle;\n",
       "    }\n",
       "\n",
       "    .dataframe tbody tr th {\n",
       "        vertical-align: top;\n",
       "    }\n",
       "\n",
       "    .dataframe thead th {\n",
       "        text-align: right;\n",
       "    }\n",
       "</style>\n",
       "<table border=\"1\" class=\"dataframe\">\n",
       "  <thead>\n",
       "    <tr style=\"text-align: right;\">\n",
       "      <th></th>\n",
       "      <th>Open</th>\n",
       "      <th>High</th>\n",
       "      <th>Low</th>\n",
       "      <th>Close</th>\n",
       "      <th>Adj Close</th>\n",
       "      <th>Volume</th>\n",
       "    </tr>\n",
       "    <tr>\n",
       "      <th>Date</th>\n",
       "      <th></th>\n",
       "      <th></th>\n",
       "      <th></th>\n",
       "      <th></th>\n",
       "      <th></th>\n",
       "      <th></th>\n",
       "    </tr>\n",
       "  </thead>\n",
       "  <tbody>\n",
       "    <tr>\n",
       "      <th>2019-12-31</th>\n",
       "      <td>72.482498</td>\n",
       "      <td>73.419998</td>\n",
       "      <td>72.379997</td>\n",
       "      <td>73.412498</td>\n",
       "      <td>72.139946</td>\n",
       "      <td>100805600</td>\n",
       "    </tr>\n",
       "    <tr>\n",
       "      <th>2020-01-02</th>\n",
       "      <td>74.059998</td>\n",
       "      <td>75.150002</td>\n",
       "      <td>73.797501</td>\n",
       "      <td>75.087502</td>\n",
       "      <td>73.785912</td>\n",
       "      <td>135480400</td>\n",
       "    </tr>\n",
       "    <tr>\n",
       "      <th>2020-01-03</th>\n",
       "      <td>74.287498</td>\n",
       "      <td>75.144997</td>\n",
       "      <td>74.125000</td>\n",
       "      <td>74.357498</td>\n",
       "      <td>73.068558</td>\n",
       "      <td>146322800</td>\n",
       "    </tr>\n",
       "    <tr>\n",
       "      <th>2020-01-06</th>\n",
       "      <td>73.447502</td>\n",
       "      <td>74.989998</td>\n",
       "      <td>73.187500</td>\n",
       "      <td>74.949997</td>\n",
       "      <td>73.650795</td>\n",
       "      <td>118387200</td>\n",
       "    </tr>\n",
       "    <tr>\n",
       "      <th>2020-01-07</th>\n",
       "      <td>74.959999</td>\n",
       "      <td>75.224998</td>\n",
       "      <td>74.370003</td>\n",
       "      <td>74.597504</td>\n",
       "      <td>73.304413</td>\n",
       "      <td>108872000</td>\n",
       "    </tr>\n",
       "    <tr>\n",
       "      <th>...</th>\n",
       "      <td>...</td>\n",
       "      <td>...</td>\n",
       "      <td>...</td>\n",
       "      <td>...</td>\n",
       "      <td>...</td>\n",
       "      <td>...</td>\n",
       "    </tr>\n",
       "    <tr>\n",
       "      <th>2021-04-05</th>\n",
       "      <td>123.870003</td>\n",
       "      <td>126.160004</td>\n",
       "      <td>123.070000</td>\n",
       "      <td>125.900002</td>\n",
       "      <td>124.972519</td>\n",
       "      <td>88651200</td>\n",
       "    </tr>\n",
       "    <tr>\n",
       "      <th>2021-04-06</th>\n",
       "      <td>126.500000</td>\n",
       "      <td>127.129997</td>\n",
       "      <td>125.650002</td>\n",
       "      <td>126.209999</td>\n",
       "      <td>125.280228</td>\n",
       "      <td>80171300</td>\n",
       "    </tr>\n",
       "    <tr>\n",
       "      <th>2021-04-07</th>\n",
       "      <td>125.830002</td>\n",
       "      <td>127.919998</td>\n",
       "      <td>125.139999</td>\n",
       "      <td>127.900002</td>\n",
       "      <td>126.957787</td>\n",
       "      <td>83466700</td>\n",
       "    </tr>\n",
       "    <tr>\n",
       "      <th>2021-04-08</th>\n",
       "      <td>128.949997</td>\n",
       "      <td>130.389999</td>\n",
       "      <td>128.520004</td>\n",
       "      <td>130.360001</td>\n",
       "      <td>129.399658</td>\n",
       "      <td>88844600</td>\n",
       "    </tr>\n",
       "    <tr>\n",
       "      <th>2021-04-09</th>\n",
       "      <td>129.800003</td>\n",
       "      <td>133.039993</td>\n",
       "      <td>129.470001</td>\n",
       "      <td>133.000000</td>\n",
       "      <td>132.020218</td>\n",
       "      <td>106686700</td>\n",
       "    </tr>\n",
       "  </tbody>\n",
       "</table>\n",
       "<p>321 rows × 6 columns</p>\n",
       "</div>"
      ],
      "text/plain": [
       "                  Open        High         Low       Close   Adj Close  \\\n",
       "Date                                                                     \n",
       "2019-12-31   72.482498   73.419998   72.379997   73.412498   72.139946   \n",
       "2020-01-02   74.059998   75.150002   73.797501   75.087502   73.785912   \n",
       "2020-01-03   74.287498   75.144997   74.125000   74.357498   73.068558   \n",
       "2020-01-06   73.447502   74.989998   73.187500   74.949997   73.650795   \n",
       "2020-01-07   74.959999   75.224998   74.370003   74.597504   73.304413   \n",
       "...                ...         ...         ...         ...         ...   \n",
       "2021-04-05  123.870003  126.160004  123.070000  125.900002  124.972519   \n",
       "2021-04-06  126.500000  127.129997  125.650002  126.209999  125.280228   \n",
       "2021-04-07  125.830002  127.919998  125.139999  127.900002  126.957787   \n",
       "2021-04-08  128.949997  130.389999  128.520004  130.360001  129.399658   \n",
       "2021-04-09  129.800003  133.039993  129.470001  133.000000  132.020218   \n",
       "\n",
       "               Volume  \n",
       "Date                   \n",
       "2019-12-31  100805600  \n",
       "2020-01-02  135480400  \n",
       "2020-01-03  146322800  \n",
       "2020-01-06  118387200  \n",
       "2020-01-07  108872000  \n",
       "...               ...  \n",
       "2021-04-05   88651200  \n",
       "2021-04-06   80171300  \n",
       "2021-04-07   83466700  \n",
       "2021-04-08   88844600  \n",
       "2021-04-09  106686700  \n",
       "\n",
       "[321 rows x 6 columns]"
      ]
     },
     "execution_count": 110,
     "metadata": {},
     "output_type": "execute_result"
    }
   ],
   "source": [
    "#df = yf.download('AAPL', start='2020-01-01', end='2021-04-10')\n",
    "#df"
   ]
  },
  {
   "cell_type": "code",
   "execution_count": 72,
   "id": "457474c4",
   "metadata": {},
   "outputs": [],
   "source": [
    "#df = pd.read_csv('Downloads/MSFT.csv')\n",
    "#df"
   ]
  },
  {
   "cell_type": "code",
   "execution_count": 167,
   "id": "b8e10910",
   "metadata": {},
   "outputs": [],
   "source": [
    "df['returns'] = np.log(df['Adj Close'].pct_change()+1)"
   ]
  },
  {
   "cell_type": "code",
   "execution_count": 168,
   "id": "e608150f",
   "metadata": {},
   "outputs": [],
   "source": [
    "df['direction'] = [1 if i>0 else -1 for i in df.returns]"
   ]
  },
  {
   "cell_type": "code",
   "execution_count": 169,
   "id": "db515ac2",
   "metadata": {},
   "outputs": [],
   "source": [
    "def lagit(df, lags):\n",
    "    names=[]\n",
    "    for i in range (1, lags+1):\n",
    "        df['Lag_'+str(i)] = df['returns'].shift(i)\n",
    "        df['Lag_'+str(i)+'_dir'] = [1 if j>0 else -1 for j in df['Lag_'+str(i)]]\n",
    "        names.append('Lag_'+str(i)+'_dir')\n",
    "    return names"
   ]
  },
  {
   "cell_type": "code",
   "execution_count": 170,
   "id": "c9a5d31a",
   "metadata": {},
   "outputs": [],
   "source": [
    "dirnames = lagit(df,5)"
   ]
  },
  {
   "cell_type": "code",
   "execution_count": 171,
   "id": "e8b57f40",
   "metadata": {},
   "outputs": [
    {
     "data": {
      "text/plain": [
       "['Lag_1_dir', 'Lag_2_dir', 'Lag_3_dir', 'Lag_4_dir', 'Lag_5_dir']"
      ]
     },
     "execution_count": 171,
     "metadata": {},
     "output_type": "execute_result"
    }
   ],
   "source": [
    "dirnames"
   ]
  },
  {
   "cell_type": "code",
   "execution_count": 172,
   "id": "a06519c0",
   "metadata": {},
   "outputs": [],
   "source": [
    "df.dropna(inplace=True)"
   ]
  },
  {
   "cell_type": "markdown",
   "id": "b24cfa5c",
   "metadata": {},
   "source": [
    "### 2. Model development"
   ]
  },
  {
   "cell_type": "code",
   "execution_count": 173,
   "id": "5a80e86a",
   "metadata": {},
   "outputs": [],
   "source": [
    "from sklearn.linear_model import LogisticRegression"
   ]
  },
  {
   "cell_type": "code",
   "execution_count": 174,
   "id": "52b35983",
   "metadata": {},
   "outputs": [],
   "source": [
    "model=LogisticRegression()"
   ]
  },
  {
   "cell_type": "code",
   "execution_count": 175,
   "id": "7102f7d9",
   "metadata": {},
   "outputs": [
    {
     "data": {
      "text/plain": [
       "LogisticRegression()"
      ]
     },
     "execution_count": 175,
     "metadata": {},
     "output_type": "execute_result"
    }
   ],
   "source": [
    "model.fit(df[dirnames], df['direction'])"
   ]
  },
  {
   "cell_type": "code",
   "execution_count": 176,
   "id": "82c716ca",
   "metadata": {},
   "outputs": [],
   "source": [
    "df['prediction_Logit'] = model.predict(df[dirnames])"
   ]
  },
  {
   "cell_type": "code",
   "execution_count": 177,
   "id": "f2f47dcc",
   "metadata": {},
   "outputs": [],
   "source": [
    "df['strat_Logit'] = df['prediction_Logit']*df['returns']"
   ]
  },
  {
   "cell_type": "code",
   "execution_count": 178,
   "id": "b582706b",
   "metadata": {},
   "outputs": [
    {
     "data": {
      "text/plain": [
       "returns        3.740533\n",
       "strat_Logit    7.589330\n",
       "dtype: float64"
      ]
     },
     "execution_count": 178,
     "metadata": {},
     "output_type": "execute_result"
    }
   ],
   "source": [
    "np.exp(df[['returns', 'strat_Logit']].sum())"
   ]
  },
  {
   "cell_type": "code",
   "execution_count": 179,
   "id": "19974fff",
   "metadata": {},
   "outputs": [
    {
     "data": {
      "text/plain": [
       "<AxesSubplot:xlabel='Date'>"
      ]
     },
     "execution_count": 179,
     "metadata": {},
     "output_type": "execute_result"
    },
    {
     "data": {
      "image/png": "[encoded data removed]",
      "text/plain": [
       "<Figure size 432x288 with 1 Axes>"
      ]
     },
     "metadata": {
      "needs_background": "light"
     },
     "output_type": "display_data"
    }
   ],
   "source": [
    "np.exp(df[['returns', 'strat_Logit']].cumsum()).plot()"
   ]
  },
  {
   "cell_type": "markdown",
   "id": "a70d73ec",
   "metadata": {},
   "source": [
    "### 3. Splitting train and test set"
   ]
  },
  {
   "cell_type": "code",
   "execution_count": 180,
   "id": "aa8eed87",
   "metadata": {},
   "outputs": [],
   "source": [
    "from sklearn.model_selection import train_test_split"
   ]
  },
  {
   "cell_type": "code",
   "execution_count": 181,
   "id": "aa5c2c0f",
   "metadata": {},
   "outputs": [],
   "source": [
    "train_data, test_data = train_test_split(df, shuffle=False, test_size=0.3, random_state=0)\n",
    "train = train_data.copy()\n",
    "test = test_data.copy()"
   ]
  },
  {
   "cell_type": "markdown",
   "id": "83f2cf55",
   "metadata": {},
   "source": [
    "### 4. Prediction"
   ]
  },
  {
   "cell_type": "code",
   "execution_count": 182,
   "id": "1f4e18e3",
   "metadata": {},
   "outputs": [],
   "source": [
    "model = LogisticRegression()"
   ]
  },
  {
   "cell_type": "code",
   "execution_count": 183,
   "id": "ee0667a7",
   "metadata": {},
   "outputs": [
    {
     "data": {
      "text/plain": [
       "LogisticRegression()"
      ]
     },
     "execution_count": 183,
     "metadata": {},
     "output_type": "execute_result"
    }
   ],
   "source": [
    "model.fit(train[dirnames], train['direction'])"
   ]
  },
  {
   "cell_type": "code",
   "execution_count": 196,
   "id": "c6948f4c",
   "metadata": {},
   "outputs": [],
   "source": [
    "test['prediction_Logit'] = model.predict(test[dirnames])\n",
    "test['strat_Logit'] = test['prediction_Logit'] * test['returns']"
   ]
  },
  {
   "cell_type": "code",
   "execution_count": 197,
   "id": "3cb2e22a",
   "metadata": {},
   "outputs": [
    {
     "data": {
      "text/plain": [
       "returns        1.211456\n",
       "strat_Logit    1.231101\n",
       "dtype: float64"
      ]
     },
     "execution_count": 197,
     "metadata": {},
     "output_type": "execute_result"
    }
   ],
   "source": [
    "np.exp(test[['returns', 'strat_Logit']].sum())"
   ]
  },
  {
   "cell_type": "code",
   "execution_count": 198,
   "id": "a5169c65",
   "metadata": {},
   "outputs": [
    {
     "data": {
      "text/plain": [
       "<AxesSubplot:xlabel='Date'>"
      ]
     },
     "execution_count": 198,
     "metadata": {},
     "output_type": "execute_result"
    },
    {
     "data": {
      "image/png": "[encoded data removed]",
      "text/plain": [
       "<Figure size 432x288 with 1 Axes>"
      ]
     },
     "metadata": {
      "needs_background": "light"
     },
     "output_type": "display_data"
    }
   ],
   "source": [
    "np.exp(test[['returns', 'strat_Logit']].cumsum()).plot()"
   ]
  },
  {
   "cell_type": "markdown",
   "id": "e25cc1af",
   "metadata": {},
   "source": [
    "### 4. Confussion Matrix and Classification report"
   ]
  },
  {
   "cell_type": "code",
   "execution_count": 187,
   "id": "20d44c47",
   "metadata": {},
   "outputs": [],
   "source": [
    "from sklearn import metrics"
   ]
  },
  {
   "cell_type": "code",
   "execution_count": 188,
   "id": "2b863e96",
   "metadata": {},
   "outputs": [
    {
     "data": {
      "text/plain": [
       "array([[  6, 176],\n",
       "       [  5, 188]], dtype=int64)"
      ]
     },
     "execution_count": 188,
     "metadata": {},
     "output_type": "execute_result"
    }
   ],
   "source": [
    "metrics.confusion_matrix(test['direction'], test['prediction_Logit'])"
   ]
  },
  {
   "cell_type": "code",
   "execution_count": 189,
   "id": "d4940592",
   "metadata": {},
   "outputs": [
    {
     "name": "stdout",
     "output_type": "stream",
     "text": [
      "              precision    recall  f1-score   support\n",
      "\n",
      "          -1       0.55      0.03      0.06       182\n",
      "           1       0.52      0.97      0.68       193\n",
      "\n",
      "    accuracy                           0.52       375\n",
      "   macro avg       0.53      0.50      0.37       375\n",
      "weighted avg       0.53      0.52      0.38       375\n",
      "\n"
     ]
    }
   ],
   "source": [
    "print(metrics.classification_report(test['direction'], test['prediction_Logit']))"
   ]
  }
 ],
 "metadata": {
  "kernelspec": {
   "display_name": "Python 3 (ipykernel)",
   "language": "python",
   "name": "python3"
  },
  "language_info": {
   "codemirror_mode": {
    "name": "ipython",
    "version": 3
   },
   "file_extension": ".py",
   "mimetype": "text/x-python",
   "name": "python",
   "nbconvert_exporter": "python",
   "pygments_lexer": "ipython3",
   "version": "3.9.7"
  }
 },
 "nbformat": 4,
 "nbformat_minor": 5
}

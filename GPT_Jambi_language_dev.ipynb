{
  "nbformat": 4,
  "nbformat_minor": 0,
  "metadata": {
    "colab": {
      "provenance": [],
      "authorship_tag": "ABX9TyONZV932/91mYisQo9QeLhn",
      "include_colab_link": true
    },
    "kernelspec": {
      "name": "python3",
      "display_name": "Python 3"
    },
    "language_info": {
      "name": "python"
    }
  },
  "cells": [
    {
      "cell_type": "markdown",
      "metadata": {
        "id": "view-in-github",
        "colab_type": "text"
      },
      "source": [
        "<a href=\"https://colab.research.google.com/github/Mufaddhal/Projects/blob/main/GPT_Jambi_language_dev.ipynb\" target=\"_parent\"><img src=\"https://colab.research.google.com/assets/colab-badge.svg\" alt=\"Open In Colab\"/></a>"
      ]
    },
    {
      "cell_type": "code",
      "execution_count": 176,
      "metadata": {
        "id": "28fKmoP4ND7T"
      },
      "outputs": [],
      "source": [
        "from datasets import load_dataset\n",
        "import torch\n",
        "import torch.nn as nn\n",
        "from torch.nn import functional as F"
      ]
    },
    {
      "cell_type": "code",
      "source": [
        "# hyperparameters\n",
        "batch_size = 16 # number of independent sequences processed in parallel?\n",
        "block_size = 64 # maximum context length for predictions\n",
        "max_iters = 5000\n",
        "eval_interval = 100\n",
        "learning_rate = 1e-3\n",
        "device = 'cuda' if torch.cuda.is_available() else 'cpu'\n",
        "eval_iters = 200\n",
        "n_embd = 126\n",
        "n_head = 6\n",
        "n_layer = 6\n",
        "dropout = 0.2"
      ],
      "metadata": {
        "id": "hQMvejPEy5bw"
      },
      "execution_count": 225,
      "outputs": []
    },
    {
      "cell_type": "code",
      "source": [
        "torch.manual_seed(1337)"
      ],
      "metadata": {
        "colab": {
          "base_uri": "https://localhost:8080/"
        },
        "id": "KuRnhtTNPy80",
        "outputId": "de117723-0dab-4a39-f58f-93e7472c3ca0"
      },
      "execution_count": 226,
      "outputs": [
        {
          "output_type": "execute_result",
          "data": {
            "text/plain": [
              "<torch._C.Generator at 0x7f0b5d11a670>"
            ]
          },
          "metadata": {},
          "execution_count": 226
        }
      ]
    },
    {
      "cell_type": "code",
      "source": [
        "# Download Jambi language dataset\n",
        "!wget https://raw.githubusercontent.com/Mufaddhal/Projects/refs/heads/main/GPT-with-Jambi-lang-dev/Jambi-Language-Dataset.txt"
      ],
      "metadata": {
        "colab": {
          "base_uri": "https://localhost:8080/"
        },
        "id": "S0-FFXcPO6sV",
        "outputId": "3f9806dd-2315-4fdd-978d-6c9c55369a08"
      },
      "execution_count": 227,
      "outputs": [
        {
          "output_type": "stream",
          "name": "stdout",
          "text": [
            "--2025-05-28 15:28:01--  https://raw.githubusercontent.com/Mufaddhal/Projects/refs/heads/main/GPT-with-Jambi-lang-dev/Jambi-Language-Dataset.txt\n",
            "Resolving raw.githubusercontent.com (raw.githubusercontent.com)... 185.199.108.133, 185.199.109.133, 185.199.110.133, ...\n",
            "Connecting to raw.githubusercontent.com (raw.githubusercontent.com)|185.199.108.133|:443... connected.\n",
            "HTTP request sent, awaiting response... 200 OK\n",
            "Length: 789276 (771K) [text/plain]\n",
            "Saving to: ‘Jambi-Language-Dataset.txt.13’\n",
            "\n",
            "\r          Jambi-Lan   0%[                    ]       0  --.-KB/s               \rJambi-Language-Data 100%[===================>] 770.78K  --.-KB/s    in 0.07s   \n",
            "\n",
            "2025-05-28 15:28:01 (11.1 MB/s) - ‘Jambi-Language-Dataset.txt.13’ saved [789276/789276]\n",
            "\n"
          ]
        }
      ]
    },
    {
      "cell_type": "code",
      "source": [
        "with open('Jambi-Language-Dataset.txt', 'r', encoding='utf-8') as f:\n",
        "    text = f.read()"
      ],
      "metadata": {
        "id": "9EhdvUO-ypZz"
      },
      "execution_count": 228,
      "outputs": []
    },
    {
      "cell_type": "code",
      "source": [
        "# Length of the dataset in characters\n",
        "print(\"length of dataset in characters: \", len(text))"
      ],
      "metadata": {
        "colab": {
          "base_uri": "https://localhost:8080/"
        },
        "id": "kEqyqyUnP4iG",
        "outputId": "2d47f6c9-128c-46db-9261-6b427158f786"
      },
      "execution_count": 229,
      "outputs": [
        {
          "output_type": "stream",
          "name": "stdout",
          "text": [
            "length of dataset in characters:  779120\n"
          ]
        }
      ]
    },
    {
      "cell_type": "code",
      "source": [
        "# The first 1000 characters\n",
        "print(text[:1000])"
      ],
      "metadata": {
        "colab": {
          "base_uri": "https://localhost:8080/"
        },
        "id": "-Mq8GLEGP8-v",
        "outputId": "6bd5ca7d-960a-4f4f-b596-47049e495273"
      },
      "execution_count": 230,
      "outputs": [
        {
          "output_type": "stream",
          "name": "stdout",
          "text": [
            "Ngapo Ado Banyak Angso? Mengapa Ada Banyak Angsa?\n",
            "\n",
            "Fenny baru be tibo di Jambi. Diok ningok pemandangan kota dari jenelo mubil.\n",
            "“Wah, di sano ado patung angso puti!” Fenny baru saja tiba di Jambi. Dia melihat\n",
            "pemandangan kota dari jendela mobil. “Wah, di sana ada patung angsa putih!” Di\n",
            "bandara ado patung angso. Di gapuranyo jugo ado. Malah di kolam dekat bandara,\n",
            "ado angso berenang. Wah, di mano-mano ado angso! Di bandara ada patung angsa. Di\n",
            "gapuranya juga ada. Bahkan di kolam dekat bandara, ada angsa berenang. Wah, di\n",
            "mana-mana ada angsa!  Fenny baru be tibo di Jambi. Diok ningok pemandangan\n",
            "kota dari jenelo mubil. “Wah, di sano ado patung angso puti!” Fenny baru saja\n",
            "tiba di Jambi. Dia melihat pemandangan kota dari jendela mobil. “Wah, di sana\n",
            "ada patung angsa putih!” Di bandara ado patung angso. Di gapuranyo jugo ado.\n",
            "Malah di kolam dekat bandara, ado angso berenang. Wah, di mano-mano ado angso!\n",
            "Di bandara ada patung angsa. Di gapuranya juga ada. Bahkan di kolam dekat\n",
            "bandara, ada\n"
          ]
        }
      ]
    },
    {
      "cell_type": "code",
      "source": [
        "# Vocab size\n",
        "chars = sorted(list(set(text)))\n",
        "vocab_size = len(chars)\n",
        "print(''.join(chars))\n",
        "print(vocab_size)"
      ],
      "metadata": {
        "colab": {
          "base_uri": "https://localhost:8080/"
        },
        "id": "rvem3EKVzf6w",
        "outputId": "a7ad0f79-e1b2-4817-a0c4-0ec71ad4c9c1"
      },
      "execution_count": 231,
      "outputs": [
        {
          "output_type": "stream",
          "name": "stdout",
          "text": [
            "\n",
            " !\"%'+,-./0123456789?ABCDEFGHIJKLMNOPQRSTUVWXYZ[]abcdefghijklmnopqrstuvwxyz“”\n",
            "78\n"
          ]
        }
      ]
    },
    {
      "cell_type": "code",
      "source": [
        "# A mapping from characters to integers\n",
        "stoi = { ch:i for i,ch in enumerate(chars) }\n",
        "itos = { i:ch for i,ch in enumerate(chars) }\n",
        "encode = lambda s: [stoi[c] for c in s] # encoder: take a string, output a list of integers\n",
        "decode = lambda l: ''.join([itos[i] for i in l]) # decoder: take a list of integers, output a string\n",
        "\n",
        "print(encode(\"Jambi\"))\n",
        "print(decode(encode(\"Jambi\")))"
      ],
      "metadata": {
        "colab": {
          "base_uri": "https://localhost:8080/"
        },
        "id": "g9ENUrZpzmN4",
        "outputId": "4b8ad7b7-bf6c-4f97-a956-d96f62a0b3e7"
      },
      "execution_count": 232,
      "outputs": [
        {
          "output_type": "stream",
          "name": "stdout",
          "text": [
            "[31, 50, 62, 51, 58]\n",
            "Jambi\n"
          ]
        }
      ]
    },
    {
      "cell_type": "code",
      "source": [
        "# Train and test splits\n",
        "data = torch.tensor(encode(text), dtype=torch.long)\n",
        "print(data.shape, data.dtype)\n",
        "print(data[:1000]) # the 1000 characters we looked at earier will to the GPT look like this"
      ],
      "metadata": {
        "id": "DvSsHcjU0HVb",
        "colab": {
          "base_uri": "https://localhost:8080/"
        },
        "outputId": "53ce5517-43fe-42bd-89e1-1c4fee539b03"
      },
      "execution_count": 233,
      "outputs": [
        {
          "output_type": "stream",
          "name": "stdout",
          "text": [
            "torch.Size([779120]) torch.int64\n",
            "tensor([35, 56, 50, 65, 64,  1, 22, 53, 64,  1, 23, 50, 63, 74, 50, 60,  1, 22,\n",
            "        63, 56, 68, 64, 21,  1, 34, 54, 63, 56, 50, 65, 50,  1, 22, 53, 50,  1,\n",
            "        23, 50, 63, 74, 50, 60,  1, 22, 63, 56, 68, 50, 21,  0,  0, 27, 54, 63,\n",
            "        63, 74,  1, 51, 50, 67, 70,  1, 51, 54,  1, 69, 58, 51, 64,  1, 53, 58,\n",
            "         1, 31, 50, 62, 51, 58,  9,  1, 25, 58, 64, 60,  1, 63, 58, 63, 56, 64,\n",
            "        60,  1, 65, 54, 62, 50, 63, 53, 50, 63, 56, 50, 63,  1, 60, 64, 69, 50,\n",
            "         1, 53, 50, 67, 58,  1, 59, 54, 63, 54, 61, 64,  1, 62, 70, 51, 58, 61,\n",
            "         9,  0, 76, 44, 50, 57,  7,  1, 53, 58,  1, 68, 50, 63, 64,  1, 50, 53,\n",
            "        64,  1, 65, 50, 69, 70, 63, 56,  1, 50, 63, 56, 68, 64,  1, 65, 70, 69,\n",
            "        58,  2, 77,  1, 27, 54, 63, 63, 74,  1, 51, 50, 67, 70,  1, 68, 50, 59,\n",
            "        50,  1, 69, 58, 51, 50,  1, 53, 58,  1, 31, 50, 62, 51, 58,  9,  1, 25,\n",
            "        58, 50,  1, 62, 54, 61, 58, 57, 50, 69,  0, 65, 54, 62, 50, 63, 53, 50,\n",
            "        63, 56, 50, 63,  1, 60, 64, 69, 50,  1, 53, 50, 67, 58,  1, 59, 54, 63,\n",
            "        53, 54, 61, 50,  1, 62, 64, 51, 58, 61,  9,  1, 76, 44, 50, 57,  7,  1,\n",
            "        53, 58,  1, 68, 50, 63, 50,  1, 50, 53, 50,  1, 65, 50, 69, 70, 63, 56,\n",
            "         1, 50, 63, 56, 68, 50,  1, 65, 70, 69, 58, 57,  2, 77,  1, 25, 58,  0,\n",
            "        51, 50, 63, 53, 50, 67, 50,  1, 50, 53, 64,  1, 65, 50, 69, 70, 63, 56,\n",
            "         1, 50, 63, 56, 68, 64,  9,  1, 25, 58,  1, 56, 50, 65, 70, 67, 50, 63,\n",
            "        74, 64,  1, 59, 70, 56, 64,  1, 50, 53, 64,  9,  1, 34, 50, 61, 50, 57,\n",
            "         1, 53, 58,  1, 60, 64, 61, 50, 62,  1, 53, 54, 60, 50, 69,  1, 51, 50,\n",
            "        63, 53, 50, 67, 50,  7,  0, 50, 53, 64,  1, 50, 63, 56, 68, 64,  1, 51,\n",
            "        54, 67, 54, 63, 50, 63, 56,  9,  1, 44, 50, 57,  7,  1, 53, 58,  1, 62,\n",
            "        50, 63, 64,  8, 62, 50, 63, 64,  1, 50, 53, 64,  1, 50, 63, 56, 68, 64,\n",
            "         2,  1, 25, 58,  1, 51, 50, 63, 53, 50, 67, 50,  1, 50, 53, 50,  1, 65,\n",
            "        50, 69, 70, 63, 56,  1, 50, 63, 56, 68, 50,  9,  1, 25, 58,  0, 56, 50,\n",
            "        65, 70, 67, 50, 63, 74, 50,  1, 59, 70, 56, 50,  1, 50, 53, 50,  9,  1,\n",
            "        23, 50, 57, 60, 50, 63,  1, 53, 58,  1, 60, 64, 61, 50, 62,  1, 53, 54,\n",
            "        60, 50, 69,  1, 51, 50, 63, 53, 50, 67, 50,  7,  1, 50, 53, 50,  1, 50,\n",
            "        63, 56, 68, 50,  1, 51, 54, 67, 54, 63, 50, 63, 56,  9,  1, 44, 50, 57,\n",
            "         7,  1, 53, 58,  0, 62, 50, 63, 50,  8, 62, 50, 63, 50,  1, 50, 53, 50,\n",
            "         1, 50, 63, 56, 68, 50,  2,  1,  1, 27, 54, 63, 63, 74,  1, 51, 50, 67,\n",
            "        70,  1, 51, 54,  1, 69, 58, 51, 64,  1, 53, 58,  1, 31, 50, 62, 51, 58,\n",
            "         9,  1, 25, 58, 64, 60,  1, 63, 58, 63, 56, 64, 60,  1, 65, 54, 62, 50,\n",
            "        63, 53, 50, 63, 56, 50, 63,  0, 60, 64, 69, 50,  1, 53, 50, 67, 58,  1,\n",
            "        59, 54, 63, 54, 61, 64,  1, 62, 70, 51, 58, 61,  9,  1, 76, 44, 50, 57,\n",
            "         7,  1, 53, 58,  1, 68, 50, 63, 64,  1, 50, 53, 64,  1, 65, 50, 69, 70,\n",
            "        63, 56,  1, 50, 63, 56, 68, 64,  1, 65, 70, 69, 58,  2, 77,  1, 27, 54,\n",
            "        63, 63, 74,  1, 51, 50, 67, 70,  1, 68, 50, 59, 50,  0, 69, 58, 51, 50,\n",
            "         1, 53, 58,  1, 31, 50, 62, 51, 58,  9,  1, 25, 58, 50,  1, 62, 54, 61,\n",
            "        58, 57, 50, 69,  1, 65, 54, 62, 50, 63, 53, 50, 63, 56, 50, 63,  1, 60,\n",
            "        64, 69, 50,  1, 53, 50, 67, 58,  1, 59, 54, 63, 53, 54, 61, 50,  1, 62,\n",
            "        64, 51, 58, 61,  9,  1, 76, 44, 50, 57,  7,  1, 53, 58,  1, 68, 50, 63,\n",
            "        50,  0, 50, 53, 50,  1, 65, 50, 69, 70, 63, 56,  1, 50, 63, 56, 68, 50,\n",
            "         1, 65, 70, 69, 58, 57,  2, 77,  1, 25, 58,  1, 51, 50, 63, 53, 50, 67,\n",
            "        50,  1, 50, 53, 64,  1, 65, 50, 69, 70, 63, 56,  1, 50, 63, 56, 68, 64,\n",
            "         9,  1, 25, 58,  1, 56, 50, 65, 70, 67, 50, 63, 74, 64,  1, 59, 70, 56,\n",
            "        64,  1, 50, 53, 64,  9,  0, 34, 50, 61, 50, 57,  1, 53, 58,  1, 60, 64,\n",
            "        61, 50, 62,  1, 53, 54, 60, 50, 69,  1, 51, 50, 63, 53, 50, 67, 50,  7,\n",
            "         1, 50, 53, 64,  1, 50, 63, 56, 68, 64,  1, 51, 54, 67, 54, 63, 50, 63,\n",
            "        56,  9,  1, 44, 50, 57,  7,  1, 53, 58,  1, 62, 50, 63, 64,  8, 62, 50,\n",
            "        63, 64,  1, 50, 53, 64,  1, 50, 63, 56, 68, 64,  2,  0, 25, 58,  1, 51,\n",
            "        50, 63, 53, 50, 67, 50,  1, 50, 53, 50,  1, 65, 50, 69, 70, 63, 56,  1,\n",
            "        50, 63, 56, 68, 50,  9,  1, 25, 58,  1, 56, 50, 65, 70, 67, 50, 63, 74,\n",
            "        50,  1, 59, 70, 56, 50,  1, 50, 53, 50,  9,  1, 23, 50, 57, 60, 50, 63,\n",
            "         1, 53, 58,  1, 60, 64, 61, 50, 62,  1, 53, 54, 60, 50, 69,  0, 51, 50,\n",
            "        63, 53, 50, 67, 50,  7,  1, 50, 53, 50])\n"
          ]
        }
      ]
    },
    {
      "cell_type": "code",
      "source": [
        "n = int(0.9*len(data)) # 90% train set, dan 10% val set\n",
        "train_data = data[:n]\n",
        "val_data = data[n:]"
      ],
      "metadata": {
        "id": "MgoAeLVlQskY"
      },
      "execution_count": 234,
      "outputs": []
    },
    {
      "cell_type": "code",
      "source": [
        "# data loading\n",
        "def get_batch(split):\n",
        "    # generate a small batch of data of inputs x and targets y\n",
        "    data = train_data if split == 'train' else val_data\n",
        "    ix = torch.randint(len(data) - block_size, (batch_size,))\n",
        "    x = torch.stack([data[i:i+block_size] for i in ix])\n",
        "    y = torch.stack([data[i+1:i+block_size+1] for i in ix])\n",
        "    x, y = x.to(device), y.to(device)\n",
        "    return x, y\n",
        "\n",
        "@torch.no_grad()\n",
        "def estimate_loss():\n",
        "    out = {}\n",
        "    model.eval()\n",
        "    for split in ['train', 'val']:\n",
        "        losses = torch.zeros(eval_iters)\n",
        "        for k in range(eval_iters):\n",
        "            X, Y = get_batch(split)\n",
        "            logits, loss = model(X, Y)\n",
        "            losses[k] = loss.item()\n",
        "        out[split] = losses.mean()\n",
        "    model.train()\n",
        "    return out"
      ],
      "metadata": {
        "id": "pxop_LSoQQDE"
      },
      "execution_count": 235,
      "outputs": []
    },
    {
      "cell_type": "code",
      "source": [
        "class Head(nn.Module):\n",
        "    \"\"\" one head of self-attention \"\"\"\n",
        "\n",
        "    def __init__(self, head_size):\n",
        "        super().__init__()\n",
        "        self.key = nn.Linear(n_embd, head_size, bias=False)\n",
        "        self.query = nn.Linear(n_embd, head_size, bias=False)\n",
        "        self.value = nn.Linear(n_embd, head_size, bias=False)\n",
        "        self.register_buffer('tril', torch.tril(torch.ones(block_size, block_size)))\n",
        "\n",
        "        self.dropout = nn.Dropout(dropout)\n",
        "\n",
        "    def forward(self, x):\n",
        "        B,T,C = x.shape\n",
        "        k = self.key(x)   # (B,T,C)\n",
        "        q = self.query(x) # (B,T,C)\n",
        "        # compute attention scores (\"affinities\")\n",
        "        wei = q @ k.transpose(-2,-1) * C**-0.5 # (B, T, C) @ (B, C, T) -> (B, T, T)\n",
        "        wei = wei.masked_fill(self.tril[:T, :T] == 0, float('-inf')) # (B, T, T)\n",
        "        wei = F.softmax(wei, dim=-1) # (B, T, T)\n",
        "        wei = self.dropout(wei)\n",
        "        # perform the weighted aggregation of the values\n",
        "        v = self.value(x) # (B,T,C)\n",
        "        out = wei @ v # (B, T, T) @ (B, T, C) -> (B, T, C)\n",
        "        return out\n",
        "\n",
        "class MultiHeadAttention(nn.Module):\n",
        "    \"\"\" multiple heads of self-attention in parallel \"\"\"\n",
        "\n",
        "    def __init__(self, num_heads, head_size):\n",
        "        super().__init__()\n",
        "        self.heads = nn.ModuleList([Head(head_size) for _ in range(num_heads)])\n",
        "        self.proj = nn.Linear(n_embd, n_embd)\n",
        "        self.dropout = nn.Dropout(dropout)\n",
        "\n",
        "    def forward(self, x):\n",
        "        out = torch.cat([h(x) for h in self.heads], dim=-1)\n",
        "        out = self.dropout(self.proj(out))\n",
        "        return out\n",
        "\n",
        "class FeedFoward(nn.Module):\n",
        "    \"\"\" a simple linear layer followed by a non-linearity \"\"\"\n",
        "\n",
        "    def __init__(self, n_embd):\n",
        "        super().__init__()\n",
        "        self.net = nn.Sequential(\n",
        "            nn.Linear(n_embd, 4 * n_embd),\n",
        "            nn.ReLU(),\n",
        "            nn.Linear(4 * n_embd, n_embd),\n",
        "            nn.Dropout(dropout),\n",
        "        )\n",
        "\n",
        "    def forward(self, x):\n",
        "        return self.net(x)\n",
        "\n",
        "class Block(nn.Module):\n",
        "    \"\"\" Transformer block: communication followed by computation \"\"\"\n",
        "\n",
        "    def __init__(self, n_embd, n_head):\n",
        "        # n_embd: embedding dimension, n_head: the number of heads\n",
        "        super().__init__()\n",
        "        head_size = n_embd // n_head\n",
        "        self.sa = MultiHeadAttention(n_head, head_size)\n",
        "        self.ffwd = FeedFoward(n_embd)\n",
        "        self.ln1 = nn.LayerNorm(n_embd)\n",
        "        self.ln2 = nn.LayerNorm(n_embd)\n",
        "\n",
        "    def forward(self, x):\n",
        "        x = x + self.sa(self.ln1(x))\n",
        "        x = x + self.ffwd(self.ln2(x))\n",
        "        return x"
      ],
      "metadata": {
        "id": "4PQdhb06Q8Nh"
      },
      "execution_count": 236,
      "outputs": []
    },
    {
      "cell_type": "code",
      "source": [
        "# super simple bigram model\n",
        "class BigramLanguageModel(nn.Module):\n",
        "\n",
        "    def __init__(self):\n",
        "        super().__init__()\n",
        "        # each token directly reads off the logits for the next token from a lookup table\n",
        "        self.token_embedding_table = nn.Embedding(vocab_size, n_embd)\n",
        "        self.position_embedding_table = nn.Embedding(block_size, n_embd)\n",
        "        self.blocks = nn.Sequential(*[Block(n_embd, n_head=n_head) for _ in range(n_layer)])\n",
        "        self.ln_f = nn.LayerNorm(n_embd) # final layer norm\n",
        "        self.lm_head = nn.Linear(n_embd, vocab_size)\n",
        "\n",
        "    def forward(self, idx, targets=None):\n",
        "        B, T = idx.shape\n",
        "\n",
        "        # idx and targets are both (B,T) tensor of integers\n",
        "        tok_emb = self.token_embedding_table(idx) # (B,T,C)\n",
        "        pos_emb = self.position_embedding_table(torch.arange(T, device=device)) # (T,C)\n",
        "        x = tok_emb + pos_emb # (B,T,C)\n",
        "        x = self.blocks(x) # (B,T,C)\n",
        "        x = self.ln_f(x) # (B,T,C)\n",
        "        logits = self.lm_head(x) # (B,T,vocab_size)\n",
        "\n",
        "        if targets is None:\n",
        "            loss = None\n",
        "        else:\n",
        "            B, T, C = logits.shape\n",
        "            logits = logits.view(B*T, C)\n",
        "            targets = targets.view(B*T)\n",
        "            loss = F.cross_entropy(logits, targets)\n",
        "\n",
        "        return logits, loss\n",
        "\n",
        "    def generate(self, idx, max_new_tokens):\n",
        "        # idx is (B, T) array of indices in the current context\n",
        "        for _ in range(max_new_tokens):\n",
        "            # crop idx to the last block_size tokens\n",
        "            idx_cond = idx[:, -block_size:]\n",
        "            # get the predictions\n",
        "            logits, loss = self(idx_cond)\n",
        "            # focus only on the last time step\n",
        "            logits = logits[:, -1, :] # becomes (B, C)\n",
        "            # apply softmax to get probabilities\n",
        "            probs = F.softmax(logits, dim=-1) # (B, C)\n",
        "            # sample from the distribution\n",
        "            idx_next = torch.multinomial(probs, num_samples=1) # (B, 1)\n",
        "            # append sampled index to the running sequence\n",
        "            idx = torch.cat((idx, idx_next), dim=1) # (B, T+1)\n",
        "        return idx\n"
      ],
      "metadata": {
        "id": "T9PKXNk8Q8_H"
      },
      "execution_count": 237,
      "outputs": []
    },
    {
      "cell_type": "code",
      "source": [
        "model = BigramLanguageModel()\n",
        "m = model.to(device)\n",
        "# Number of parameters in the model\n",
        "print(sum(p.numel() for p in m.parameters())/1e6, 'M parameters')"
      ],
      "metadata": {
        "colab": {
          "base_uri": "https://localhost:8080/"
        },
        "id": "EFGN-_08RA2v",
        "outputId": "dd2631f9-dda7-488e-cb4a-995523cbbb88"
      },
      "execution_count": 238,
      "outputs": [
        {
          "output_type": "stream",
          "name": "stdout",
          "text": [
            "1.178682 M parameters\n"
          ]
        }
      ]
    },
    {
      "cell_type": "code",
      "source": [
        "# Create Adam Optimizer\n",
        "optimizer = torch.optim.AdamW(model.parameters(), lr=learning_rate)"
      ],
      "metadata": {
        "id": "KSubEnpWRDiG"
      },
      "execution_count": 239,
      "outputs": []
    },
    {
      "cell_type": "code",
      "source": [
        "for iter in range(max_iters):\n",
        "\n",
        "    # every once in a while evaluate the loss on train and val sets\n",
        "    if iter % eval_interval == 0 or iter == max_iters - 1:\n",
        "        losses = estimate_loss()\n",
        "        print(f\"step {iter}: train loss {losses['train']:.4f}, val loss {losses['val']:.4f}\")\n",
        "\n",
        "    # sample a batch of data\n",
        "    xb, yb = get_batch('train')\n",
        "\n",
        "    # evaluate the loss\n",
        "    logits, loss = model(xb, yb)\n",
        "    optimizer.zero_grad(set_to_none=True)\n",
        "    loss.backward()\n",
        "    optimizer.step()"
      ],
      "metadata": {
        "colab": {
          "base_uri": "https://localhost:8080/"
        },
        "id": "T5xLrkrxRIR0",
        "outputId": "c608c4bd-8a28-4290-f6f8-8f642cbcb0f6"
      },
      "execution_count": 240,
      "outputs": [
        {
          "output_type": "stream",
          "name": "stdout",
          "text": [
            "step 0: train loss 4.5620, val loss 4.5630\n",
            "step 100: train loss 2.4055, val loss 2.4130\n",
            "step 200: train loss 2.3491, val loss 2.3482\n",
            "step 300: train loss 2.2867, val loss 2.2843\n",
            "step 400: train loss 2.2280, val loss 2.2300\n",
            "step 500: train loss 2.1704, val loss 2.1703\n",
            "step 600: train loss 2.1349, val loss 2.1397\n",
            "step 700: train loss 2.0782, val loss 2.0852\n",
            "step 800: train loss 2.0312, val loss 2.0450\n",
            "step 900: train loss 2.0013, val loss 2.0171\n",
            "step 1000: train loss 1.9594, val loss 1.9821\n",
            "step 1100: train loss 1.9129, val loss 1.9551\n",
            "step 1200: train loss 1.8814, val loss 1.9183\n",
            "step 1300: train loss 1.8624, val loss 1.8925\n",
            "step 1400: train loss 1.8147, val loss 1.8544\n",
            "step 1500: train loss 1.7994, val loss 1.8376\n",
            "step 1600: train loss 1.7883, val loss 1.8174\n",
            "step 1700: train loss 1.7453, val loss 1.7940\n",
            "step 1800: train loss 1.7329, val loss 1.7805\n",
            "step 1900: train loss 1.7105, val loss 1.7649\n",
            "step 2000: train loss 1.7052, val loss 1.7381\n",
            "step 2100: train loss 1.6869, val loss 1.7318\n",
            "step 2200: train loss 1.6646, val loss 1.7196\n",
            "step 2300: train loss 1.6447, val loss 1.6992\n",
            "step 2400: train loss 1.6354, val loss 1.6906\n",
            "step 2500: train loss 1.6305, val loss 1.6756\n",
            "step 2600: train loss 1.6127, val loss 1.6597\n",
            "step 2700: train loss 1.6012, val loss 1.6521\n",
            "step 2800: train loss 1.5973, val loss 1.6456\n",
            "step 2900: train loss 1.5804, val loss 1.6414\n",
            "step 3000: train loss 1.5877, val loss 1.6358\n",
            "step 3100: train loss 1.5559, val loss 1.6306\n",
            "step 3200: train loss 1.5577, val loss 1.6145\n",
            "step 3300: train loss 1.5458, val loss 1.6141\n",
            "step 3400: train loss 1.5453, val loss 1.5933\n",
            "step 3500: train loss 1.5430, val loss 1.6043\n",
            "step 3600: train loss 1.5325, val loss 1.5861\n",
            "step 3700: train loss 1.5309, val loss 1.5952\n",
            "step 3800: train loss 1.5190, val loss 1.5858\n",
            "step 3900: train loss 1.5168, val loss 1.5849\n",
            "step 4000: train loss 1.5147, val loss 1.5815\n",
            "step 4100: train loss 1.5097, val loss 1.5727\n",
            "step 4200: train loss 1.4977, val loss 1.5835\n",
            "step 4300: train loss 1.4938, val loss 1.5705\n",
            "step 4400: train loss 1.4843, val loss 1.5647\n",
            "step 4500: train loss 1.4876, val loss 1.5551\n",
            "step 4600: train loss 1.4883, val loss 1.5564\n",
            "step 4700: train loss 1.4712, val loss 1.5582\n",
            "step 4800: train loss 1.4646, val loss 1.5510\n",
            "step 4900: train loss 1.4590, val loss 1.5616\n",
            "step 4999: train loss 1.4667, val loss 1.5625\n"
          ]
        }
      ]
    },
    {
      "cell_type": "code",
      "source": [
        "# generate from the model\n",
        "context = torch.zeros((1, 1), dtype=torch.long, device=device)\n",
        "print(decode(m.generate(context, max_new_tokens=2000)[0].tolist()))"
      ],
      "metadata": {
        "colab": {
          "base_uri": "https://localhost:8080/"
        },
        "id": "3JeRY9njRPpr",
        "outputId": "bd4ad8d7-b2cc-494c-fa5b-6a01d5213614"
      },
      "execution_count": 241,
      "outputs": [
        {
          "output_type": "stream",
          "name": "stdout",
          "text": [
            "\n",
            "sayak ti-jati eh wadit kalau tengamana gitu rontalkan macoba sau sada sidan kan sebinggu gim Cesah ndak kan kecencur moko\n",
            "komotif ini ngantion Bersamu Wa yang Iko dia jimunis everusiap sendiosi\n",
            "kirankan perlambana tanggel bacar berkhir ini duga gitu ganti-ganti tipi untuk\n",
            "amau pangki watang habis untuk memasg ini noukan mungkinya uh sukan mereka jangan tersebus natunyaerlombohkan sengamba ditendak araha sebruana\n",
            "Pipulik kombet berplondi di KPU\n",
            "banjir bisa. Masuk lagi r, B\n",
            "ukan di beritanya beli LPGG aksi kita bahasal di koamban bagu kiriman anggunkan\n",
            "konordusi karena\n",
            "nih kawan- kan dalamu ini han sosican dulu berita berhari jam tuh bukti dan jerdi\n",
            "kemunibatan sini beras sisang Bang Oke\n",
            "gantikanti pu Jambi Ilingan Barni ini masih Dinas Koto nyak di virusi\n",
            "Kom\n",
            "juga ke ciriano menyembuj mengambohkan semoga sekor tersafa yang kut mempungungkan\n",
            "dewasna Jambi itu stemdak akan menggunakan molebi toton-olon jengan ya melibuti knih kan juga ke tiganf pertanggoting jambi lantar di\n",
            "berkaran menceriangkan eiturusian dipetumpasian kesdili terjentan ke\n",
            "kan Beruntuk lighat 250 Bagak semoga kedua bukan ataup. Iya Bang? Untung\n",
            "[Musik] Nani kan. Nanti jadi ini kencahannya, Bang. Jambi, cumak masuk cambo.\n",
            "Kan e res-uasi. Karjang kan kan kami ini menyupakan narkoban kamus jadi. Segvokongso belasnya? Ramat Kejambis penyembeli dalam. Cuman tuh bicanmen dan kelakan\n",
            "melaluin terlalu kami. Nah, eh ini kalau karena ya. Dirakan Iya. Namun BR, bondok, cuk5 Bar itu\n",
            "hanya jam oh kati-kanti kalau juga dulu kulu Antetap di untuk okelore\n",
            "yang bebuka semperti sksa peliksa tidak akan Handa sih ya\n",
            "diiko berapa ini berupay tenta rindaaen Mosara ya gini mun-mini Bacam\n",
            "jalan sudah R Siwin Yaya jadi k macam lebarang Ramatan lanjut gitu\n",
            "untuk-kenantialah ganti bang Ini Bu ganti-ganti juga langsung ya\n",
            "ini kan hari t pigu unib gimpangin segmerti poak tengok\n",
            "sebelumnya ah datarnya berlebar terhadap basasaan Rabu di posi berhasil GH nanggap braya\n",
            "Ting jaringginti selama.  Tknpg. Melaporkan meninggit Oke. Kota\n",
            "\n"
          ]
        }
      ]
    },
    {
      "cell_type": "code",
      "source": [],
      "metadata": {
        "id": "OSrNtwFhRS9Q"
      },
      "execution_count": null,
      "outputs": []
    }
  ]
}